{
 "cells": [
  {
   "cell_type": "code",
   "execution_count": 121,
   "id": "e83a88a3",
   "metadata": {},
   "outputs": [],
   "source": [
    "# Imports\n",
    "\n",
    "# pandas\n",
    "import pandas as pd\n",
    "from pandas import Series,DataFrame\n",
    "\n",
    "# numpy, matplotlib, seaborn\n",
    "import numpy as np\n",
    "import matplotlib.pyplot as plt\n",
    "import seaborn as sns\n",
    "sns.set_style('whitegrid')\n",
    "%matplotlib inline\n",
    "\n",
    "# machine learning\n",
    "from sklearn.linear_model import LogisticRegression\n",
    "from sklearn.svm import SVC, LinearSVC\n",
    "from sklearn.ensemble import RandomForestClassifier\n",
    "from sklearn.neighbors import KNeighborsClassifier\n",
    "from sklearn.naive_bayes import GaussianNB\n"
   ]
  },
  {
   "cell_type": "code",
   "execution_count": 122,
   "id": "173126f0",
   "metadata": {},
   "outputs": [
    {
     "data": {
      "text/html": [
       "<div>\n",
       "<style scoped>\n",
       "    .dataframe tbody tr th:only-of-type {\n",
       "        vertical-align: middle;\n",
       "    }\n",
       "\n",
       "    .dataframe tbody tr th {\n",
       "        vertical-align: top;\n",
       "    }\n",
       "\n",
       "    .dataframe thead th {\n",
       "        text-align: right;\n",
       "    }\n",
       "</style>\n",
       "<table border=\"1\" class=\"dataframe\">\n",
       "  <thead>\n",
       "    <tr style=\"text-align: right;\">\n",
       "      <th></th>\n",
       "      <th>PassengerId</th>\n",
       "      <th>Survived</th>\n",
       "      <th>Pclass</th>\n",
       "      <th>Name</th>\n",
       "      <th>Sex</th>\n",
       "      <th>Age</th>\n",
       "      <th>SibSp</th>\n",
       "      <th>Parch</th>\n",
       "      <th>Ticket</th>\n",
       "      <th>Fare</th>\n",
       "      <th>Cabin</th>\n",
       "      <th>Embarked</th>\n",
       "    </tr>\n",
       "  </thead>\n",
       "  <tbody>\n",
       "    <tr>\n",
       "      <th>0</th>\n",
       "      <td>1</td>\n",
       "      <td>0</td>\n",
       "      <td>3</td>\n",
       "      <td>Braund, Mr. Owen Harris</td>\n",
       "      <td>male</td>\n",
       "      <td>22.0</td>\n",
       "      <td>1</td>\n",
       "      <td>0</td>\n",
       "      <td>A/5 21171</td>\n",
       "      <td>7.2500</td>\n",
       "      <td>NaN</td>\n",
       "      <td>S</td>\n",
       "    </tr>\n",
       "    <tr>\n",
       "      <th>1</th>\n",
       "      <td>2</td>\n",
       "      <td>1</td>\n",
       "      <td>1</td>\n",
       "      <td>Cumings, Mrs. John Bradley (Florence Briggs Th...</td>\n",
       "      <td>female</td>\n",
       "      <td>38.0</td>\n",
       "      <td>1</td>\n",
       "      <td>0</td>\n",
       "      <td>PC 17599</td>\n",
       "      <td>71.2833</td>\n",
       "      <td>C85</td>\n",
       "      <td>C</td>\n",
       "    </tr>\n",
       "    <tr>\n",
       "      <th>2</th>\n",
       "      <td>3</td>\n",
       "      <td>1</td>\n",
       "      <td>3</td>\n",
       "      <td>Heikkinen, Miss. Laina</td>\n",
       "      <td>female</td>\n",
       "      <td>26.0</td>\n",
       "      <td>0</td>\n",
       "      <td>0</td>\n",
       "      <td>STON/O2. 3101282</td>\n",
       "      <td>7.9250</td>\n",
       "      <td>NaN</td>\n",
       "      <td>S</td>\n",
       "    </tr>\n",
       "    <tr>\n",
       "      <th>3</th>\n",
       "      <td>4</td>\n",
       "      <td>1</td>\n",
       "      <td>1</td>\n",
       "      <td>Futrelle, Mrs. Jacques Heath (Lily May Peel)</td>\n",
       "      <td>female</td>\n",
       "      <td>35.0</td>\n",
       "      <td>1</td>\n",
       "      <td>0</td>\n",
       "      <td>113803</td>\n",
       "      <td>53.1000</td>\n",
       "      <td>C123</td>\n",
       "      <td>S</td>\n",
       "    </tr>\n",
       "    <tr>\n",
       "      <th>4</th>\n",
       "      <td>5</td>\n",
       "      <td>0</td>\n",
       "      <td>3</td>\n",
       "      <td>Allen, Mr. William Henry</td>\n",
       "      <td>male</td>\n",
       "      <td>35.0</td>\n",
       "      <td>0</td>\n",
       "      <td>0</td>\n",
       "      <td>373450</td>\n",
       "      <td>8.0500</td>\n",
       "      <td>NaN</td>\n",
       "      <td>S</td>\n",
       "    </tr>\n",
       "  </tbody>\n",
       "</table>\n",
       "</div>"
      ],
      "text/plain": [
       "   PassengerId  Survived  Pclass  \\\n",
       "0            1         0       3   \n",
       "1            2         1       1   \n",
       "2            3         1       3   \n",
       "3            4         1       1   \n",
       "4            5         0       3   \n",
       "\n",
       "                                                Name     Sex   Age  SibSp  \\\n",
       "0                            Braund, Mr. Owen Harris    male  22.0      1   \n",
       "1  Cumings, Mrs. John Bradley (Florence Briggs Th...  female  38.0      1   \n",
       "2                             Heikkinen, Miss. Laina  female  26.0      0   \n",
       "3       Futrelle, Mrs. Jacques Heath (Lily May Peel)  female  35.0      1   \n",
       "4                           Allen, Mr. William Henry    male  35.0      0   \n",
       "\n",
       "   Parch            Ticket     Fare Cabin Embarked  \n",
       "0      0         A/5 21171   7.2500   NaN        S  \n",
       "1      0          PC 17599  71.2833   C85        C  \n",
       "2      0  STON/O2. 3101282   7.9250   NaN        S  \n",
       "3      0            113803  53.1000  C123        S  \n",
       "4      0            373450   8.0500   NaN        S  "
      ]
     },
     "execution_count": 122,
     "metadata": {},
     "output_type": "execute_result"
    }
   ],
   "source": [
    "titanic_df = pd.read_csv('./train.csv')\n",
    "test_df = pd.read_csv('./test.csv')\n",
    "titanic_df.head()"
   ]
  },
  {
   "cell_type": "code",
   "execution_count": 123,
   "id": "f1b6fec2",
   "metadata": {},
   "outputs": [
    {
     "data": {
      "text/plain": [
       "Index(['PassengerId', 'Survived', 'Pclass', 'Name', 'Sex', 'Age', 'SibSp',\n",
       "       'Parch', 'Ticket', 'Fare', 'Cabin', 'Embarked'],\n",
       "      dtype='object')"
      ]
     },
     "execution_count": 123,
     "metadata": {},
     "output_type": "execute_result"
    }
   ],
   "source": [
    "titanic_df.columns"
   ]
  },
  {
   "cell_type": "code",
   "execution_count": 124,
   "id": "76639e58",
   "metadata": {},
   "outputs": [
    {
     "data": {
      "text/plain": [
       "Index(['PassengerId', 'Pclass', 'Name', 'Sex', 'Age', 'SibSp', 'Parch',\n",
       "       'Ticket', 'Fare', 'Cabin', 'Embarked'],\n",
       "      dtype='object')"
      ]
     },
     "execution_count": 124,
     "metadata": {},
     "output_type": "execute_result"
    }
   ],
   "source": [
    "test_df.columns"
   ]
  },
  {
   "cell_type": "code",
   "execution_count": 125,
   "id": "c059bb69",
   "metadata": {},
   "outputs": [
    {
     "data": {
      "text/plain": [
       "((891, 12), (418, 11))"
      ]
     },
     "execution_count": 125,
     "metadata": {},
     "output_type": "execute_result"
    }
   ],
   "source": [
    "titanic_df.shape, test_df.shape"
   ]
  },
  {
   "cell_type": "code",
   "execution_count": 126,
   "id": "f462055b",
   "metadata": {},
   "outputs": [
    {
     "name": "stdout",
     "output_type": "stream",
     "text": [
      "PassengerId      0\n",
      "Survived         0\n",
      "Pclass           0\n",
      "Name             0\n",
      "Sex              0\n",
      "Age            177\n",
      "SibSp            0\n",
      "Parch            0\n",
      "Ticket           0\n",
      "Fare             0\n",
      "Cabin          687\n",
      "Embarked         2\n",
      "dtype: int64\n"
     ]
    }
   ],
   "source": [
    "print(titanic_df.isna().sum())"
   ]
  },
  {
   "cell_type": "code",
   "execution_count": 127,
   "id": "ced72f3a",
   "metadata": {},
   "outputs": [
    {
     "name": "stdout",
     "output_type": "stream",
     "text": [
      "PassengerId      0\n",
      "Pclass           0\n",
      "Name             0\n",
      "Sex              0\n",
      "Age             86\n",
      "SibSp            0\n",
      "Parch            0\n",
      "Ticket           0\n",
      "Fare             1\n",
      "Cabin          327\n",
      "Embarked         0\n",
      "dtype: int64\n"
     ]
    }
   ],
   "source": [
    "print(test_df.isna().sum())"
   ]
  },
  {
   "cell_type": "code",
   "execution_count": 128,
   "id": "8523a74d",
   "metadata": {},
   "outputs": [],
   "source": [
    "# drop unnecessary columns, these columns won't be useful in analysis and prediction\n",
    "\n",
    "titanic_df = titanic_df.drop(['PassengerId','Name','Ticket'], axis=1)\n",
    "test_df    = test_df.drop(['Name','Ticket'], axis=1)\n"
   ]
  },
  {
   "cell_type": "code",
   "execution_count": 129,
   "id": "b3f48e83",
   "metadata": {},
   "outputs": [
    {
     "name": "stderr",
     "output_type": "stream",
     "text": [
      "/Users/moritayasushieda/opt/anaconda3/lib/python3.8/site-packages/seaborn/categorical.py:3714: UserWarning: The `factorplot` function has been renamed to `catplot`. The original name will be removed in a future release. Please update your code. Note that the default `kind` in `factorplot` (`'point'`) has changed `'strip'` in `catplot`.\n",
      "  warnings.warn(msg)\n",
      "/Users/moritayasushieda/opt/anaconda3/lib/python3.8/site-packages/seaborn/categorical.py:3720: UserWarning: The `size` parameter has been renamed to `height`; please update your code.\n",
      "  warnings.warn(msg, UserWarning)\n",
      "/Users/moritayasushieda/opt/anaconda3/lib/python3.8/site-packages/seaborn/_decorators.py:36: FutureWarning: Pass the following variables as keyword args: x, y. From version 0.12, the only valid positional argument will be `data`, and passing other arguments without an explicit keyword will result in an error or misinterpretation.\n",
      "  warnings.warn(\n"
     ]
    },
    {
     "data": {
      "text/plain": [
       "<seaborn.axisgrid.FacetGrid at 0x7f9e190d5a90>"
      ]
     },
     "execution_count": 129,
     "metadata": {},
     "output_type": "execute_result"
    },
    {
     "data": {
      "image/png": "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\n",
      "text/plain": [
       "<Figure size 864x288 with 1 Axes>"
      ]
     },
     "metadata": {
      "needs_background": "light"
     },
     "output_type": "display_data"
    }
   ],
   "source": [
    "# Embarked\n",
    "\n",
    "# only in titanic_df, fill the two missing values with the most occurred value, which is \"S\".\n",
    "titanic_df[\"Embarked\"] = titanic_df[\"Embarked\"].fillna(\"S\")\n",
    "\n",
    "# plot\n",
    "sns.factorplot('Embarked','Survived', data=titanic_df,size=4,aspect=3)\n"
   ]
  },
  {
   "cell_type": "code",
   "execution_count": 130,
   "id": "b4a19837",
   "metadata": {},
   "outputs": [
    {
     "data": {
      "text/plain": [
       "<AxesSubplot:xlabel='Embarked', ylabel='Survived'>"
      ]
     },
     "execution_count": 130,
     "metadata": {},
     "output_type": "execute_result"
    },
    {
     "data": {
      "image/png": "iVBORw0KGgoAAAANSUhEUgAAA3gAAAE7CAYAAACPPSOlAAAAOXRFWHRTb2Z0d2FyZQBNYXRwbG90bGliIHZlcnNpb24zLjMuNCwgaHR0cHM6Ly9tYXRwbG90bGliLm9yZy8QVMy6AAAACXBIWXMAAAsTAAALEwEAmpwYAAAwDUlEQVR4nO3de5RcdZnv/3cn6VQHSEDiKHAAQR2faUVQgtwCEhjUg7eoIzqwBAS5nR8S8IqawMwgHFQgSFBuAcUrjkZxKQ4oAwZIRGB6xIGheSDgjeEgiIZwS5FO+vdHVaQISac7qepdvev9WovFvtWuT+9uvuxn7+/+7q7BwUEkSZIkSWPfuKIDSJIkSZKawwJPkiRJkkrCAk+SJEmSSsICT5IkSZJKwgJPkiRJkkrCAk+SJEmSSmJC0QFG6o477hisVCpFx5DURE8//fSfpk2b9jdF59gYtk1SOdk+SWpHQ7VNY67Aq1Qq9Pb2Fh1DUhP19fX9rugMG8u2SSon2ydJ7WiotskumpIkSZJUEhZ4kiRJklQSFniSJEmSVBJj7hk8SZJUrBUrVvDggw+yfPnyoqM0TU9PD9tuuy3d3d1FR5GkjWKBJ0mSRuTBBx9k8uTJ7LDDDnR1dRUdZ6MNDg7y2GOP8eCDD7LjjjsWHUeSNopdNCVJ0ogsX76cqVOnlqK4A+jq6mLq1KmluiMpqXNZ4EmSpBErS3G3Wtl+HkmdywJPkiRttFtvvZW99tqLww477K//zJo1a72f+8EPfsA555yzQd95wAEHUK1WR/SZarXKAQccsEHfJ0ljgc/gSZKkpthzzz0577zzio4hSR3NAk+SJLXMYYcdRkRw3333sckmm7DbbruxaNEili1bxle+8hUA7rjjDo444giefPJJTjzxRGbMmMG1117Lt771rb/u5/zzz+e+++7jnHPOobu7m/e9731/XXfllVeyePFi5s6dyx133MF5553H+PHj2W677Tj99NN59tln+fjHP86yZcvYfvvtR/0YSNJossCTJElN8ctf/pLDDjvsr/P77bcfADvvvDNz5szhQx/6ED09PXz1q1/llFNO4fbbbwdg0qRJXHrppfz5z3/m4IMP5o1vfCO//e1vufTSS5k0aRKnnXYaixYt4qUvfSnVapXvfe97AMybN49vfOMb9Pf3c/755zNu3DhOPfVUvv3tbzN16lS++MUvctVVV/Hss8/yqle9io985CP8+te/5tZbbx39gyNJo6R0BV51xUoq3eOLjlE4j4MktY92aJNHI8PaumjeeOONvOY1rwFgypQpvPKVr/zr9Orn56ZNm/bXkSwnT57M0qVLmTp1KqeccgqbbropDzzwAK973esAXvAag1tuuYXx48czfvx4HnvsMR555BFOPvlkoDba5/Tp0/nLX/7CvvvuC8Auu+zChAmlO/1RGxgcqNI1oVJ0jMJ5HIpXuhau0j2eaZ/4etExCtd39uFFR5Ak1bXD/5va+f8Ld955JwCPPvooTz/9NN3d3cybN4+FCxcCcOSRRzI4OAjAuHHPHx/uwgsvZPbs2Vx55ZW8//3vZ6uttuLCCy9k8uTJXH/99WyyySbce++93HHHHRx44IHcfffdDAwMjOrPp87QNaHC709/bdExCrf9aXcWHaHjla7AkyRJxViziyYwrHfLLV++nMMPP5ynn36a008/nc0224xdd92Vd7/73WyyySZMmTKFRx55hG233Xatn58zZw4HH3wwe+21F7Nnz+bYY49lcHCQTTfdlC984Qu84Q1v4NOf/jSHHHIIL3/5y+nu7m7KzytJ7cgCT5IkbbQ99tiDW265ZchtGrtvzp49+6/T73nPe16w7fnnn7/O71nthhtuAKBSqXDdddcBsMMOO7DPPvu84HNnn332kNkkqSx8D54kSZIklYQFniRJkiSVhAWeJEmSJJWEBZ4kSZIklYQFniRJkiSVhAWeJEmSJJWEr0mQJElNV12xkkr3+FHf36WXXsovfvELxo0bR1dXFx/5yEfYaaedmpZDktqdBZ4kSWq6Svd4pn3i603bX9/Zh693myVLlnDDDTdw5ZVX0tXVRX9/P6eccgo/+tGPmpZDktqdXTQlSVIpbLnlljz00EMsWLCAP/7xj/T29rJgwYKiY0nSqPIOnqSOExEvAfqANwEDwBXAIHAXcEJmroqIY4Dj6uvPyMyrC4oraZi23HJLLrroIr75zW/y5S9/mZ6eHj7ykY/wlre8pehokjRqLPAkdZSI6AYuAZ6pL5oLzMnMhRFxMTAzIm4BZgG7AT3Aooi4LjOrhYSWNCy/+93v2GyzzTjrrLMAuPPOOzn22GPZY4892GKLLYoNJ0mjpGUFXkR8GngnMBG4ELgRr5JLKt45wMXAp+vz06i1TwDXAG8GVgKL6wVdNSKWADsDt49yVkkjkJlceeWVXHzxxVQqFXbccUcmT57M+PHNG+xFktpdSwq8iJgB7A1MBzYBPo5XySUVLCI+CDyamT+tX4QC6MrMwfr0E8DmwBTg8YaPrl6+TtVqlf7+/iYnVln09vYWHQGgaX+jK1as4Jlnnhlym0mTJjXluxqt7zv33Xdf7rnnHt773vcyadIkBgcHOemkk5gwYcJ6Pwu1n8v/jiWNda26g/cW4E7gKmonSp8AjsGr5JKKdRQwGBEHAq8Dvg68pGH9ZGApsKw+vebydapUKm1zEi+tS7P+Rvv7+9dbwFVXrBzWyJfDVV2xclhF46xZs5g1a9YGfUd3d/cLjlFfX98G7UuSitKqAu/FwMuAtwM7Aj8Cxo3GVXJPsJ7jVUjp+TLzjaunI2IhcDxwdkTMyMyFwEHAz4HbgDMjogeoAL3UupZLGqZmvgOvFfuTpLJqVYH3GHBPZj4LZEQsB7ZrWO9V8lHgcdJYUfAV8o8B8yNiItAPLMjMlRExD7iZ2utkZmfm8iJDSpIkDUerCrxFwEkRMRfYGtgUuN6r5JLaRWbOaJjdby3r5wPzRy2QJElSE7SkwMvMqyPijdQKuHHACcBv8Cq5JEmSJLVMy16TkJmfXMtir5JLkiStQ0SMo/Z6qV2AKnB0Zi5pWP9R4EPAo/VFx2VmjnpQSW3LF51LkiS1j3cBPZm5V0TsCZwLzGxYvytweGY6vKektbLAkyRJTTc4UKVrQmXU93ffffdx9tln88wzz/D000+z3377ceKJJ9LV1dW0LC22D3AtQGb+MiJ2W2P9NODTEbEV8JPMPGu0A0pqbxZ4kiSp6bomVPj96a9t2v62P+3O9W6zbNkyPvrRj3LBBRewww47sHLlSk466SS+853vcMghhzQtS4ut+QqplRExITMH6vPfAb5MbSTyqyLi7Zl59VA7XN8rptQcjl7+HP/eimWBJ0mSSuH6669njz32YIcddgBg/PjxfP7zn6e7u7vYYCOz5iukxq0u7iKiC/hiZj5en/8J8HpgyALPV0xptPn31npDvWJq3CjmkCRJaplHHnmE7bbb7nnLNt10UyZOnFhQog2yGHgrQP0ZvMZbl1OAuyJis3qxdwDgs3iSnscCT5IklcI222zDww8//Lxlf/jDH7j99tsLSrRBrgKWR8QvgPOAj0TEoRFxbP3O3WeovUv4ZuC/M/PfCswqqQ3ZRVOSJJXC/vvvzyWXXMIhhxzC9ttvz4oVK/jc5z7H3nvvzRve8Iai4w1LZq4Cjl9j8T0N678BfGNUQ0kaUyzwJElSKWy22WZ87nOfY86cOQwODvLUU0+x//77c+ihhxYdTZJGjQWeJElqusGB6rBGvhzJ/obzmoSddtqJr3/96037Xkkaa3wGT5IkNV0z34HXiv1JUllZ4EmSJElSSVjgSZIkSVJJWOBJkiRJUklY4EmSJElSSVjgSZIkSVJJWOBJkqSmqw5U23p/klRWvgdPkiQ1XWVChekXTG/a/hafuHi929x1113MnTuXZ555hsHBQfbYYw9OOOEEJk6c2LQcktTuvIMnSZLGvIcffphPfOITnHrqqVx55ZVceeWVdHd3c9ZZZxUdTZJGlQWeJEka8374wx9y8MEHs+OOOwLQ1dXFCSecwI033sjy5csLTidJo8cCT5IkjXkPPfQQ22233fOWdXV18eIXv5hHH320oFSSNPp8Bk9Sx4iI8cB8IICVwJHA5sCPgfvqm12Umf8aEccAxwEDwBmZeXUBkSUN0zbbbMMf/vCH5y1btWoVDz30EFOnTi0olSSNPgs8SZ3kHQCZOT0iZgBzqRV3czPz3NUbRcRWwCxgN6AHWBQR12Wmw/hJbWrmzJkcddRRHHDAAWy55ZacfPLJvPSlL2X//fdnk002KTqeJI0aCzxJHSMzfxgRq+/EvQz4IzANiIiYSe0u3snA7sDiekFXjYglwM7A7aOfWhqbqgPVYY18OZL9VSZU1rl+66235uyzz+azn/0sTz31FMuXL2fcuHG8+MUvZunSpWyxxRZNyyJJ7cwCT1JHycyBiPga8G7gvcD/Ai7LzL6ImA38E3AH8HjDx56g1pVT0jANVYy1an877bQTl19++fOW3XPPPXR3dzc1iyS1Mws8SR0nM4+IiFOAW4G9M/N/6quuAi4AbgImN3xkMrB0qH1Wq1X6+/tbkFZl0NvbW3QEgKb9ja5YsYJnnnmmKftqtZe97GUAw8q7YsUK/zuWNOZZ4EnqGBFxGLBtZp4FPA2sAn4QESdm5m3A3wN9wG3AmRHRA1SAXuCuofZdqVTa5iReWpdm/Y329/czadKkpuyrnXR3d7/gGPX19RWURpI2jAWepE7yA+CrEXET0E3tebs/AF+KiGeBh4FjM3NZRMwDbqb2OpnZmemLtKQGg4ODdHV1FR2jaQYHB4uOIElNYYEnqWNk5lPA+9ayau+1bDuf2isVJK2hp6eHxx57jKlTp5aiyBscHOSxxx6jp6en6CiStNEs8CRJ0ohsu+22PPjgg6V6gXhPTw/bbrtt0TEkaaNZ4EmSpBHp7u5mxx13LDqGJGktxhUdQJIkSZLUHBZ4kiRJklQSLeuiGRG/4rkXBf8GOBO4AhikNtz4CZm5KiKOAY4DBoAzMvPqVmWSJEmSpDJrSYFXf3cUmTmjYdmPgDmZuTAiLgZmRsQtwCxgN6AHWBQR12VmtRW5JEmSJKnMWnUHbxdgk4j4Wf07PgNMA26sr78GeDOwElhcL+iqEbEE2Bm4vUW5JEmSJKm0WlXgPQ2cA1wG/C21gq4rM1e/RfQJYHNgCs9142xcvk7VapX+/v51ru/t7d3w1CUz1HGSJEmSVD6tKvDuBZbUC7p7I+IxanfwVpsMLAWW1afXXL5OlUrFIm6YPE4aK/r6+oqOIEmSVAqtGkXzKOBcgIjYhtqdup9FxIz6+oOAm4HbgH0joiciNgd6qQ3AIkmSJEkaoVbdwbscuCIiFlEbNfMo4E/A/IiYCPQDCzJzZUTMo1bsjQNmZ+byFmWSJEmSpFJrSYGXmc8Ch65l1X5r2XY+ML8VOSRJkiSpk/iic0mSJEkqCQs8SZIkSSoJCzxJkiRJKgkLPEmSJEkqCQs8SZIkSSqJVr0mQZIkSSMUEeOAC4FdgCpwdGYuWct2lwJ/zsxPjXJESW3OO3iSJEnt411AT2buBXwKOHfNDSLiOOC1o5xL0hhhgSdJktQ+9gGuBcjMXwK7Na6MiL2APYFLRj+apLHAAk+SJKl9TAEeb5hfGRETACJia+CfgRMKyCVpjPAZPEmSpPaxDJjcMD8uMwfq0wcDLwb+DdgK2CQi7snMK4baYbVapb+/vxVZ1aC3t7foCG3Dv7diWeBJkiS1j8XAO4DvRsSewJ2rV2TmPGAeQER8EPi79RV3AJVKxeJDo8q/t9br6+tb5zoLPEkdIyLGA/OBAFYCRwJdwBXAIHAXcEJmroqIY4DjgAHgjMy8upDQkjrNVcCbIuIX1NqnIyPiUGCzzLy02GiSxgILPEmd5B0AmTk9ImYAc6mdQM3JzIURcTEwMyJuAWZRG9ygB1gUEddlZrWg3JI6RGauAo5fY/E9a9nuilEJJGnMcZAVSR0jM38IHFuffRnwR2AacGN92TXAgcDuwOLMrGbm48ASYOfRTStJkjRy3sGT1FEycyAivga8G3gv8PbMHKyvfgLYnBeOYrd6+To5iIGG0i7Po/g3KqndVQeqVCZUio5RuI05DhZ4kjpOZh4REacAtwKTGlZNBpbywlHsVi9fJwcx0Fjg3+jIDTWQgaTmq0yoMP2C6UXHKNziExdv8GftoimpY0TEYRHx6frs08Aq4D/qz+MBHATcDNwG7BsRPRGxOdBLbQAWSZKktuYdPEmd5AfAVyPiJqAbOBnoB+ZHxMT69ILMXBkR86gVe+OA2Zm5vKDMkiRJw2aBJ6ljZOZTwPvWsmq/tWw7n9orFSRJksYMu2hKkiRJUklY4EmSJElSSVjgSZIkSVJJWOBJkiRJUklY4EmSJElSSVjgSZIkSVJJWOBJkiRJUklY4EmSJElSSVjgSZIkSVJJWOBJkiRJUklY4EmSJElSSVjgSZIkSVJJWOBJkiRJUklMaNWOI+IlQB/wJmAAuAIYBO4CTsjMVRFxDHBcff0ZmXl1q/JIkiRJUtm15A5eRHQDlwDP1BfNBeZk5r5AFzAzIrYCZgHTgbcAZ0VEpRV5JEmSJKkTtKqL5jnAxcBD9flpwI316WuAA4HdgcWZWc3Mx4ElwM4tyiNJkiRJpdf0Ai8iPgg8mpk/bVjclZmD9ekngM2BKcDjDdusXi5JkiRJ2gCteAbvKGAwIg4EXgd8HXhJw/rJwFJgWX16zeVDqlar9Pf3r3N9b2/vSPOW1lDHSZIkSVL5NL3Ay8w3rp6OiIXA8cDZETEjMxcCBwE/B24DzoyIHqAC9FIbgGVIlUrFIm6YPE4aK/r6+oqOIEkdq7piJZXu8UXHKJzHQWXRslE01/AxYH5ETAT6gQWZuTIi5gE3U+sqOjszl49SHkmSJAGV7vFM+8TXi45RuL6zDy86gtQULS3wMnNGw+x+a1k/H5jfygySJEmS1Cl80bkkSZIklcRoddGUpMLV39H5FWAHas/+ngE8CPwYuK++2UWZ+a8RcQxwHDAAnJGZV49+YkmSpJGxwJPUST4APJaZh0XEVOBXwOnA3Mw8d/VGEbEVMAvYDegBFkXEdZlZLSK0JEnScFngSeok3wMWNMwPANOAiIiZ1O7inQzsDiyuF3TViFgC7AzcPrpxJY1VEfHGda3LzJtGM4ukzmKBJ6ljZOaTABExmVqhN4daV83LMrMvImYD/wTcATze8NEngM2H2vf63tGpztYur63xb3RU/Z/6v18BTKR2gej1wJPAjIIySeoAFniSOkpEbAdcBVyYmd+OiC0yc2l99VXABcBNwOSGj00GljIE39GpscC/0ZHb0Pd0ZuYhABHxE2BmZg5ExHjgJ02MJ0kv4CiakjpGRLwU+BlwSmZ+pb74pxGxe33674E+4DZg34joiYjNgV7grlEPLKkMtm6YngC8pKggkjqDd/AkdZLPAC8CTo2IU+vLPgp8MSKeBR4Gjs3MZRExD7iZ2oWw2Zm5vJDEksa6y4H/joi7gFdT6wYuSS1jgSepY2TmScBJa1m191q2nQ/Mb3koSaWWmV+OiG8Afwc8kJl/KjqTpHIbVhfNiDh6jflZrYkjScNn2ySp3UXEa6g9d3c5cHREvL3gSJJKbsg7eBFxCPBOYP+IOKC+eDywEzCvxdkkaa1smySNIfOAI6n1CLgcuAa4utBEkkptfV00rwX+HzAVuKS+bBVwfytDSdJ62DZJGjMyc0lEDGbmoxHxRNF5JJXbkAVeZv4FWAgsjIiXAD3D+ZwktZJtk6Qx5M8RcRywaUT8I+t55UpEjAMuBHYBqsDRmbmkYf0/AJ8CBoFLM/OyVgWXNDYN62QoIr4MvA14COii1qi8YFACSRpNtk2SxoAPURvB90/AbvX5obwL6MnMvSJiT+BcYCZA/T16n6vv50ng7oj4oQO3SGo03KvdewAvz8xVrQwjSSNk2ySp3f0LMD8z7x7m9vtQ64ZOZv4yInZbvSIzV0ZEb/2l6S+hdmHryaYnljSmDfdF50t4rguUJLUL2yZJ7W4x8IWIuDEiPhgRk9az/RTg8Yb5lRHx1wvy9eLuPcCvgZuAFU1PLGlMG+4dvO2B30XE6j7gg5lpNyhJRbNtktTWMnMBsCAitgbOA74IbDHER5YBkxvmx2XmwBr7/EFE/BC4Ajgc+OpQGarVKv39/etc39vbO9THO8pQx2l9PI7P8Tg2x4Yex+EWeIds0N4lqbVsmyS1tYjYHjgC+AfgP4GD1vORxcA7gO/Wn8G7s2FfU4AfA2/OzGpEPEVtBOEhVSoVT5qHyePUHB7H5hjqOPb19a1z3XALvCPWsuz0YX5WklrFtklSu/s+cBmwb2YO5xUJVwFviohfUHvG7siIOBTYLDMvjYhvATdFxArgv4Bvtiq4pLFpuAXeH+v/7gJ2ZfjP7klSK9k2SWpLEbFtZj4IfIDaCL9b17tpkpn3rutz9UGjjl9j8T0N6y8FLm1+YkllMawCLzMvaZyPiGtaE0eShs+2SVIb+2j9n4vXWD4IHDD6cSR1iuG+B+9VDbNbUxvYQJIKZdskqV1l5kfrk+cDP/J1LpJGy3C7aDZeJV8OfLwFWSRppGybJLW7A4HPRsSPgMsz84GiA0kqt+F20dw/IqYCrwAeyMw/tTaWJK3fWG+bqitWUuke3/EZpDLLzA9HxERgJvCliJiYmQcWnUtSeQ23i+bBwBlAP7BTRPxzZjpqk6RCjfW2qdI9nmmf+HqhGfrOPrzQ75c6xO7AW4CXAgsKziKp5IbbRfOjwLTMfDIiJgM34LC8kopn2ySprUXE3cCvgcsy8+ii80gqv+EOKb4qM58EqL/DZXnrIknSsNk2SWp3X83MQzLz+qKDSOoMw72Dd39EnAvcBOwL3N+6SJI0bLZNktrdQRExNzNXFh1EUmcYboF3KbAf8CbgEGr9yCWpaLZNktrd3wAPRcRvqL0DbzAz9y44k6QSG24XzbnAVZn5YeAN9XlJKpptk6R293Zqg6y8H/hHahejJKllhnsHbyAz7wbIzAciwpd1SmoHtk2S2t0Ra1l2+qinkNQxhlvg/S4i/i9wC7WrUP/TukiSNGwjapsiohv4CrADUKH2ioW7gSuodZ26CzghM1dFxDHAccAAcEZmXt2in0FSuf2x/u8uYFeG33tKkjbIcAu8I4HjgbdSe9/UGUNtHBHjgflAACvrn+/CkyhJzTWitgn4APBYZh5Wf0H6r4A7gDmZuTAiLgZmRsQtwCxgN6AHWBQR12VmtUU/h6SSysxLGucj4pqiskjqDMMq8DJzOfDFEez3HfXPTY+IGdSei+nCkyhJTbQBbdP3eP5LhgeAacCN9flrgDdTuzC1uN4WVSNiCbAzcPvGZpbUWSLiVQ2z2wDbF5VFUmcY7h28EcnMH0bE6jtxL6PWPeFteBIlqUCr35lXfyn6AmAOcE5mDtY3eQLYHJgCPN7w0dXLJWmkLqHWe2lL4DHgY8XGkVR2LSnwADJzICK+BrwbeC/wdk+iJBUtIrYDrgIuzMxvR8QXGlZPBpYCy+rTay5fp2q1Sn9//4iy9Pb2jmj7Vhlpbo2cv+vOExG7ApcDe1AbSfMiYBNgYpG5JJVfywo8gMw8IiJOAW4FJjWsatlJVLv8T7Qd+D9y6fki4qXAz4APZ+b19cW/iogZmbkQOAj4OXAbcGZE9FAbjKWX2rPD61SpVMZs+zNWc2vk/F2PXF9f34Z+9EzgiMx8NiLOoNa+LKHWi+lHTYonSS/QkgIvIg4Dts3Ms4CngVXAf3T6SdRo8zhprNiIE6iR+gzwIuDUiDi1vuwkYF5ETKQ2UMuCzFwZEfOAm6mNeDe7/ryfJA3XuMz8r4jYBtg0M/8TwNe5SGq1Vt3B+wHw1Yi4CegGTqZ24jTfkyhJRcnMk6gVdGvaby3bzqc2GrAkbYjVr0P438C/A0REhef3XJKkpmvVICtPAe9byypPoiRJUif494hYDGwHvDMiXkHtObx/LTaWpLLzZZuSJElNlpmfB44GXp+Zd9QXX1R/fEWSWqalg6xIkiR1qszsb5i+H7i/wDiSOoR38CRJkiSpJCzwJEmSJKkkLPAkSZIkqSQs8CRJkiSpJCzwJEmSJKkkLPAkSZIkqSQs8CRJkiSpJCzwJEmSJKkkLPAkSZIkqSQs8CRJkiSpJCzwJEmSJKkkLPAkSZIkqSQs8CRJkiSpJCzwJEmSJKkkLPAkSZIkqSQs8CRJkiSpJCzwJEmSJKkkJhQdQJIkSTURMQ64ENgFqAJHZ+aShvWHACcDK4H/Av6/zFxVQFRJbco7eJIkSe3jXUBPZu4FfAo4d/WKiJgEnAHsn5l7A5sDby8ipKT2ZYEnSZLUPvYBrgXIzF8CuzWsqwJ7Z+bT9fkJwPLRjSep3dlFU1LHiYg9gM9n5oyI2BX4MXBfffVFmfmvEXEMcBwwAJyRmVcXFFdSZ5kCPN4wvzIiJmTmQL0r5h8BIuJEYDPguvXtsFqt0t/fv871vb29G5e4RIY6TuvjcXyOx7E5NvQ4WuBJ6igR8UngMOCp+qJdgbmZ2dgNaitgFrUr5z3Aooi4LjOro51XUsdZBkxumB+XmQOrZ+rP6H0BeBXwD5k5uL4dVioVT5qHyePUHB7H5hjqOPb19a1znV00JXWa+4H3NMxPA94WETdFxOURMRnYHVicmdXMfBxYAuxcQFZJnWcx8FaAiNgTuHON9ZdQu/D0roaumpL0V97Bk9RRMvP7EbFDw6LbgMsysy8iZgP/BNzB87tIPUFtMIN1Wl8XqLVplyucG9OVRsPj71ojcBXwpoj4BdAFHBkRh1LrjvkfwIeAm4EbIgLg/My8qqiwktqPBZ6kTndVZi5dPQ1cANzE87tITQaWMoSx3AVqrObWyPm7HrmhukG1Qv05u+PXWHxPw7S9ryQNyUZCUqf7aUTsXp/+e6CP2l29fSOiJyI2B3qBu4oKKEmSNFzewZPU6f4P8KWIeBZ4GDg2M5dFxDxq3aDGAbMz06HIJUlS27PAk9RxMvO3wJ716f8E9l7LNvOB+aObTJIkaePYRVOSJEmSSsICT5IkSZJKouldNCOiG/gKsANQAc4A7gauAAapDVRwQmauiohjgOOAAeCMzLy62XkkSZIkqVO04g7eB4DHMnNf4CDgS8BcYE59WRcwMyK2AmYB04G3AGdFRKUFeSRJkiSpI7RikJXvAQsa5geAacCN9flrgDcDK4HFmVkFqhGxBNgZuL0FmSRJkiSp9Jpe4GXmkwARMZlaoTcHOCczB+ubPAFsDkwBHm/46OrlkiRJkqQN0JLXJETEdsBVwIWZ+e2I+ELD6snAUmBZfXrN5UOqVqv09/evc31vb+8GJC6noY6TJEmSpPJpxSArLwV+Bnw4M6+vL/5VRMzIzIXUnsv7OXAbcGZE9FAbjKWX2gAsQ6pUKhZxw+Rx0ljR19dXdARJkqRSaMUdvM8ALwJOjYhT68tOAuZFxESgH1iQmSsjYh5wM7XBXmZn5vIW5JEkSZKkjtCKZ/BOolbQrWm/tWw7H5jf7AySJEmS1Il80bkkSZIklYQFniRJkiSVhAWeJEmSJJWEBZ4kSZIklYQFniRJkiSVhAWeJEmSJJWEBZ4kSZIklYQFniRJkiSVhAWe1mpwoFp0hLbgcZAkSdJYMqHoAGpPXRMq/P701xYdo3Dbn3Zn0REkSZKkYfMOniRJkiSVhAWeJEmSJJWEXTQldZyI2AP4fGbOiIhXAlcAg8BdwAmZuSoijgGOAwaAMzLz6sICS5IkDZN38CR1lIj4JHAZ0FNfNBeYk5n7Al3AzIjYCpgFTAfeApwVEZUi8kqSJI2EBZ6kTnM/8J6G+WnAjfXpa4ADgd2BxZlZzczHgSXAzqOaUpIkaQPYRVNSR8nM70fEDg2LujJzsD79BLA5MAV4vGGb1cvXqVqt0t/fP6Isvb29I9q+VUaaWyPn71qSNFos8CR1ulUN05OBpcCy+vSay9epUqm0zUn8SI3V3Bo5f9cj19fXV3QESRoRu2hK6nS/iogZ9emDgJuB24B9I6InIjYHeqkNwCJJktTWvIMnqdN9DJgfEROBfmBBZq6MiHnUir1xwOzMXF5kSEmSpOGwwJPUcTLzt8Ce9el7gf3Wss18YP7oJht9gwNVuiYUN0Bo0d8vSVLZWOBJUgfrmlDh96e/trDv3/60Owv7bkmSyshn8CRJkiSpJCzwJEmSJKkkLPAkSZIkqSQs8CRJkiSpJCzwJEmSJKkkHEVTkiSpTUTEOOBCYBegChydmUvW2GYT4DrgQ5l5z+inlNTOvIMnSZLUPt4F9GTmXsCngHMbV0bEbsBNwCtGP5qkscACT5IkqX3sA1wLkJm/BHZbY30FeDfgnTtJa2UXTUmSpPYxBXi8YX5lREzIzAGAzFwMEBHD3mG1WqW/v3+d63t7ezcsaQkNdZzWx+P4HI9jc2zocbTAkySpAwwOVOmaUOn4DGPAMmByw/y41cXdhqpUKp40D5PHqTk8js0x1HHs6+tb5zoLPEmSOkDXhAq/P/21hWbY/rQ7C/3+MWIx8A7guxGxJ+BBkzQiLSvwImIP4POZOSMiXglcAQwCdwEnZOaqiDgGOA4YAM7IzKtblUeSJGkMuAp4U0T8AugCjoyIQ4HNMvPSYqNJGgtaUuBFxCeBw4Cn6ovmAnMyc2FEXAzMjIhbgFnUHh7uARZFxHWZWW1FJkmSpHaXmauA49dY/IIBVTJzxqgEkjTmtGoUzfuB9zTMTwNurE9fAxwI7A4szsxqZj4OLAF2blEeSZIkSSq9lhR4mfl9YEXDoq7MHKxPPwFszgtHiVq9XJIkSZK0AUZrkJVVDdOTgaW8cJSo1cuH5FC/w+cQtc2xMcdRkiRJGk2jVeD9KiJmZOZC4CDg58BtwJkR0UPtpZ291AZgGZJD/Q6fx6k5PI6tN9RQv5IkSRq+0SrwPgbMj4iJQD+wIDNXRsQ84GZqXUVnZ+byUcojSZIkSaXTsgIvM38L7FmfvhfYby3bzAfmtyqDJEmSJHWSVo2iKUmSJEkaZRZ4kiRJklQSo/UMniS1tYj4Fc+9uuU3wJnAFcAgtQGgTqi/gFiSJKltWeBJ6nj10XzJzBkNy34EzMnMhRFxMTATuKqYhJIkScNjgSdJsAuwSUT8jFq7+BlgGnBjff01wJuxwJMkSW3OAk9qoepAlcqEStExCjcGjsPTwDnAZcDfUivoujJzsL7+CWDzoXZQrVbp7+8f0Zf6jsWakR63scjf9XM64fctSUWywJNaqDKhwvQLphcdo3CLT1xcdIT1uRdYUi/o7o2Ix6jdwVttMrB0qB1UKhVP4jeQx62zjLXfd19fX9ERJGlEHEVTkuAo4FyAiNgGmAL8LCJm1NcfBNxcTDSpPKoD1Y7+fkkaDd7BkyS4HLgiIhZRGzXzKOBPwPyImAj0AwsKzCeVQtG9GsZAbwJJ2mgWeJI6XmY+Cxy6llX7jXYWSZKkjWEXTUmSJEkqCQs8SZIkSSoJCzxJkiRJKgkLPEmSJEkqCQs8SZIkSSoJCzxJkiRJKgkLPEmSJEkqCQs8SZIkSSoJCzxJUmGqA9WiI7RFBkmSmmVC0QEkSZ2rMqHC9AumF5ph8YmLC/1+SZKayTt4kiRJklQSFniSJEmSVBIWeJIkSZJUEhZ4kiRJklQSFniSJEmSVBIWeJIkSZJUEhZ4kiRJklQSFniSJEmSVBIWeJIkSZJUEhZ4kiRJklQSFniSJEmSVBIWeJIkSZJUEhZ4kiRJklQSE4oOEBHjgAuBXYAqcHRmLik2laROZ9skqQjra3si4h3AacAA8JXMnF9IUEltqx3u4L0L6MnMvYBPAecWG0eSANsmScV4F+toeyKiGzgPeDOwH3BsRGxVREhJ7asdCrx9gGsBMvOXwG7FxpEkwLZJUjGGant6gSWZ+ZfMfBZYBOw7+hEltbOuwcHBQgNExGXA9zPzmvr874GXZ+bA2rbv6+t7FPjdKEaU1HovmzZt2t8UHaKRbZOkulFtn4ZqeyJiH+DEzHx/fd3pwO8z87Kh9mn7JJXSOtumwp/BA5YBkxvmx63rBAqg3U4CJZWWbZOkIgzV9qy5bjKwdH07tH2SOks7dNFcDLwVICL2BO4sNo4kAbZNkooxVNvTD/xtRGwZEROBNwK3jH5ESe2sHe7gXQW8KSJ+AXQBRxacR5LAtklSMV7Q9kTEocBmmXlpRHwU+Cm1i/Rfycz/KTCrpDZU+DN4kiRJkqTmaIcumpIkSZKkJrDAkyRJkqSSaIdn8EojIj4FHAisAgaBz2RmX7Gpxp6IeA3wBWATYDPg34B/zkz7E49AREwDzqJ2HMcBPwf+pf7uJGmjRcQewOczc0bRWdQ6ETEOuBDYBagCR2fmkmJTqSw8d2oOz52aoyznTt7Ba5KIeDXwTuBNmflm4BTgK8WmGnsiYgvgO8DJmbk/sCfwWuC4InONNRGxLfBN4MOZuQ8wndqJ2XmFBlNpRMQngcuAnqKzqOXeBfRk5l7Ap4Bzi42jsvDcqTk8d2qOMp07WeA1zyPA9sBREfG/MvMOYPdiI41JM4EbMvM+gMxcCRyODf5IHQ5clpn3AtSv4H0WeGtETCo0mcrifuA9RYfQqNgHuBYgM38J7FZsHJWI507N4blTc5Tm3MkCr0ky80/UrkJNB26JiHuAtxebakzaBnigcUFmPjnWbo23gZfxwuM4CPwR2KqQRCqVzPw+sKLoHBoVU4DHG+ZXRoSPeGijee7UNJ47NUdpzp0s8JokIl4JLMvMozJze+ADwEURsWXB0caa3wHbNS6IiB0j4o0F5Rmrfge8vHFB/Tma7aldMZWk4VoGTG6YH5eZA0WFUXl47tQ0njs1R2nOnSzwmmdnao3S6udR7qV2xXNlcZHGpKuB/x0RrwCIiG5gLrBToanGnm8AR0fE30bEFhHxM2rPS12dmU8VnE3S2LIYeCtAROwJ3FlsHJWI507N4blTc5Tm3MkXnTdRRMwG3gc8Sa14/nxm/rDQUGNQfQSjs6kdw8nAj6mNYOQf6wjUj+P/pTaa1ibAw9S6GXw0M/9cZDaVQ0TsAHwnM/csOotap2EUzZ2BLuDIzLyn2FQqC8+dmsNzp+Yoy7mTBZ7UQSJiZ+CBzHyy6CySJEntbiyeO1ngSZIkSVJJ+AyeJEmSJJWEBZ4kSZIklYQFniRJkiSVhAWeJEmSJJXEhKIDaOyLiBnAd4G7GxY/mpkHr+dzHwT+LjM/tQHf+dv6Z5eP4DM9wD2ZucNIv09SOUTEp4ADgVXAIPCZzOzbwH19EZibmb/fwM9/B7g4MxduyOcljV2eO6mVLPDULDdk5j8WHUKS1iUiXg28E5iemYMR8Trga8AuG7K/zDy5eekkdSDPndQSFnhqmYhYCPwa2InaC0xvBt4CbAG8ub7ZXhFxPTAF+OfM/ElEvBc4gdoLdQHeW9/H54FngUsbvuP4+r4OAfYEzgRWAvcDxwEV4FvAi4AlrflJJY0RjwDbA0dFxLWZeUdE7F5vq47PzHvqbcpWwBXUXhT8GPBvwJHAq+uF4ZeBfwdOAo4Hvgm8NzN/GxEHA/sApwGXA1Pr3z0rM++MiBOAo4H/B7xkVH5qSWOG505qBp/BU7McEBELG/75RH35bZn599Qai6cz803UuiPsV1//FLXuUm8DvhQR44BXAW/LzBlAUmvYAHoyc9/M/EZ9/kRgX+Bgao3XfOA9mbkf8D/AB+v/3JWZbwQuac2PLmksyMw/Ub+DB9wSEfcAbx/iI1sBb87MLwD/BewbERVgBrXib7XLgcPr0x+k1hZ9Brg+M/cHjgUuiojNqRWFewIzgYnN+ckkjVGeO6klvIOnZnlBN4OIeBvwn/XZpTzXz/wvQE99elFmDgKPRMTj1K52PwJ8LSKeBP4OuKW+ba7xnQcCA5m5MiJeAmwNfDciACYBPwNeDFwLkJm3RsSKJvysksagiHglsCwzj6rP70bt7tzDDZt1NUz/JjOfrU/PB46gVvT9KDMH6m0N1K50L4qIy4ApmXlXRLyW2snb++vbvIhae/bfmVmtf/9tTf8hJY0lnjupJbyDp1YbXM/6NwBExFbAZtSuJv0L8I/UujE9w3MnXKvW+OxM4C/1rgZ/Ah4EZtavXp0J/By4B9ir/h2vB7o37seRNIbtTO1O2uqTpHuBx6l1w9y6vmzXhu0b25zrgdcDR1G7Y/dXmbkM6APOA75aX3wPcF69PXoftSLwAeDVETEpIsbX9ydJa/LcSRvFO3hqlgPq/cYbTRrG5yZFxA3UGqjjgGXAYmpXr56idsVqG+A36/j8LOA2aidfJwE/qXdVWEaty9RNwFcjYhG1Bqs6gp9JUolk5g8iohe4tX6VexzwCWonR1+OiD9Q66K0ts8ORsQC4MDMXNszKfOpXfE+qj5/JnB5RBzLc8/JPBoRpwG/AB6l1sZJ6lyeO6klugYH13eRQJIkSZI0FthFU5IkSZJKwgJPkiRJkkrCAk+SJEmSSsICT5IkSZJKwgJPkiRJkkrCAk+SJEmSSsICT5IkSZJKwgJPkiRJkkri/wdLW5z/ihk12AAAAABJRU5ErkJggg==\n",
      "text/plain": [
       "<Figure size 1080x360 with 3 Axes>"
      ]
     },
     "metadata": {
      "needs_background": "light"
     },
     "output_type": "display_data"
    }
   ],
   "source": [
    "fig, (axis1,axis2,axis3) = plt.subplots(1,3,figsize=(15,5))\n",
    "\n",
    "\n",
    "sns.countplot(x='Embarked', data=titanic_df, ax=axis1)\n",
    "sns.countplot(x='Survived', hue=\"Embarked\", data=titanic_df, order=[1,0], ax=axis2)\n",
    "\n",
    "# group by embarked, and get the mean for survived passengers for each value in Embarked\n",
    "embark_perc = titanic_df[[\"Embarked\", \"Survived\"]].groupby(['Embarked'],as_index=False).mean()\n",
    "sns.barplot(x='Embarked', y='Survived', data=embark_perc,order=['S','C','Q'],ax=axis3)\n"
   ]
  },
  {
   "cell_type": "code",
   "execution_count": 131,
   "id": "93694894",
   "metadata": {},
   "outputs": [],
   "source": [
    "titanic_df = titanic_df.drop(['Embarked'], axis=1)\n",
    "test_df    = test_df.drop(['Embarked'], axis=1)"
   ]
  },
  {
   "cell_type": "code",
   "execution_count": 132,
   "id": "c08a3e64",
   "metadata": {},
   "outputs": [],
   "source": [
    "# Fare\n",
    "\n",
    "# only for test_df, since there is a missing \"Fare\" values\n",
    "test_df[\"Fare\"].fillna(test_df[\"Fare\"].median(), inplace=True)"
   ]
  },
  {
   "cell_type": "code",
   "execution_count": 133,
   "id": "42a91f4a",
   "metadata": {},
   "outputs": [
    {
     "data": {
      "text/plain": [
       "0     7\n",
       "1    71\n",
       "2     7\n",
       "3    53\n",
       "4     8\n",
       "Name: Fare, dtype: int64"
      ]
     },
     "execution_count": 133,
     "metadata": {},
     "output_type": "execute_result"
    }
   ],
   "source": [
    "# convert from float to int\n",
    "titanic_df['Fare'] = titanic_df['Fare'].astype(int)\n",
    "test_df['Fare']    = test_df['Fare'].astype(int)\n",
    "titanic_df['Fare'].head()"
   ]
  },
  {
   "cell_type": "code",
   "execution_count": 134,
   "id": "03a142f1",
   "metadata": {},
   "outputs": [],
   "source": [
    "# get fare for survived & didn't survive passengers \n",
    "fare_not_survived = titanic_df[\"Fare\"][titanic_df[\"Survived\"] == 0]\n",
    "fare_survived     = titanic_df[\"Fare\"][titanic_df[\"Survived\"] == 1]"
   ]
  },
  {
   "cell_type": "code",
   "execution_count": 135,
   "id": "61b3c854",
   "metadata": {},
   "outputs": [],
   "source": [
    "# get average and std for fare of survived/not survived passengers\n",
    "average_fare = DataFrame([fare_not_survived.mean(), fare_survived.mean()])\n",
    "std_fare      = DataFrame([fare_not_survived.std(), fare_survived.std()])"
   ]
  },
  {
   "cell_type": "code",
   "execution_count": 136,
   "id": "c1aa1dd8",
   "metadata": {},
   "outputs": [
    {
     "data": {
      "text/plain": [
       "<AxesSubplot:xlabel='Survived'>"
      ]
     },
     "execution_count": 136,
     "metadata": {},
     "output_type": "execute_result"
    },
    {
     "data": {
      "image/png": "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\n",
      "text/plain": [
       "<Figure size 1080x216 with 1 Axes>"
      ]
     },
     "metadata": {
      "needs_background": "light"
     },
     "output_type": "display_data"
    },
    {
     "data": {
      "image/png": "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\n",
      "text/plain": [
       "<Figure size 432x288 with 1 Axes>"
      ]
     },
     "metadata": {
      "needs_background": "light"
     },
     "output_type": "display_data"
    }
   ],
   "source": [
    "# plot\n",
    "titanic_df['Fare'].plot(kind='hist', figsize=(15,3),bins=100, xlim=(0,50))\n",
    "\n",
    "avgerage_fare.index.names = std_fare.index.names = [\"Survived\"]\n",
    "avgerage_fare.plot(yerr=std_fare,kind='bar',legend=False)"
   ]
  },
  {
   "cell_type": "code",
   "execution_count": 137,
   "id": "7b8af4a4",
   "metadata": {},
   "outputs": [
    {
     "name": "stderr",
     "output_type": "stream",
     "text": [
      "<ipython-input-137-9aef6ac7dfb6>:27: SettingWithCopyWarning: \n",
      "A value is trying to be set on a copy of a slice from a DataFrame\n",
      "\n",
      "See the caveats in the documentation: https://pandas.pydata.org/pandas-docs/stable/user_guide/indexing.html#returning-a-view-versus-a-copy\n",
      "  titanic_df[\"Age\"][np.isnan(titanic_df[\"Age\"])] = rand_1\n",
      "<ipython-input-137-9aef6ac7dfb6>:28: SettingWithCopyWarning: \n",
      "A value is trying to be set on a copy of a slice from a DataFrame\n",
      "\n",
      "See the caveats in the documentation: https://pandas.pydata.org/pandas-docs/stable/user_guide/indexing.html#returning-a-view-versus-a-copy\n",
      "  test_df[\"Age\"][np.isnan(test_df[\"Age\"])] = rand_2\n"
     ]
    },
    {
     "data": {
      "text/plain": [
       "<AxesSubplot:title={'center':'New Age values - Titanic'}>"
      ]
     },
     "execution_count": 137,
     "metadata": {},
     "output_type": "execute_result"
    },
    {
     "data": {
      "image/png": "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\n",
      "text/plain": [
       "<Figure size 1080x288 with 2 Axes>"
      ]
     },
     "metadata": {
      "needs_background": "light"
     },
     "output_type": "display_data"
    }
   ],
   "source": [
    "# Age \n",
    "\n",
    "fig, (axis1,axis2) = plt.subplots(1,2,figsize=(15,4))\n",
    "axis1.set_title('Original Age values - Titanic')\n",
    "axis2.set_title('New Age values - Titanic')\n",
    "\n",
    "# get average, std, and number of NaN values in titanic_df\n",
    "average_age_titanic   = titanic_df[\"Age\"].mean()\n",
    "std_age_titanic       = titanic_df[\"Age\"].std()\n",
    "count_nan_age_titanic = titanic_df[\"Age\"].isnull().sum()\n",
    "\n",
    "# get average, std, and number of NaN values in test_df\n",
    "average_age_test   = test_df[\"Age\"].mean()\n",
    "std_age_test       = test_df[\"Age\"].std()\n",
    "count_nan_age_test = test_df[\"Age\"].isnull().sum()\n",
    "\n",
    "# generate random numbers between (mean - std) & (mean + std)\n",
    "rand_1 = np.random.randint(average_age_titanic - std_age_titanic, average_age_titanic + std_age_titanic, size = count_nan_age_titanic)\n",
    "rand_2 = np.random.randint(average_age_test - std_age_test, average_age_test + std_age_test, size = count_nan_age_test)\n",
    "\n",
    "# plot original Age values\n",
    "# NOTE: drop all null values, and convert to int\n",
    "titanic_df['Age'].dropna().astype(int).hist(bins=70, ax=axis1)\n",
    "# test_df['Age'].dropna().astype(int).hist(bins=70, ax=axis1)\n",
    "\n",
    "# fill NaN values in Age column with random values generated\n",
    "titanic_df[\"Age\"][np.isnan(titanic_df[\"Age\"])] = rand_1\n",
    "test_df[\"Age\"][np.isnan(test_df[\"Age\"])] = rand_2\n",
    "\n",
    "# convert from float to int\n",
    "titanic_df['Age'] = titanic_df['Age'].astype(int)\n",
    "test_df['Age']    = test_df['Age'].astype(int)\n",
    "\n",
    "# plot new Age Values\n",
    "titanic_df['Age'].hist(bins=70, ax=axis2)\n",
    "# test_df['Age'].hist(bins=70, ax=axis4)"
   ]
  },
  {
   "cell_type": "code",
   "execution_count": 138,
   "id": "6f87df99",
   "metadata": {},
   "outputs": [
    {
     "data": {
      "text/plain": [
       "<seaborn.axisgrid.FacetGrid at 0x7f9e19e4d1c0>"
      ]
     },
     "execution_count": 138,
     "metadata": {},
     "output_type": "execute_result"
    },
    {
     "data": {
      "image/png": "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\n",
      "text/plain": [
       "<Figure size 911x216 with 1 Axes>"
      ]
     },
     "metadata": {
      "needs_background": "light"
     },
     "output_type": "display_data"
    }
   ],
   "source": [
    "# peaks for survived/not survived passengers by their age\n",
    "facet = sns.FacetGrid(titanic_df, hue=\"Survived\",aspect=4)\n",
    "facet.map(sns.kdeplot,'Age',shade= True)\n",
    "facet.set(xlim=(0, titanic_df['Age'].max()))\n",
    "facet.add_legend()\n"
   ]
  },
  {
   "cell_type": "code",
   "execution_count": 139,
   "id": "80d77035",
   "metadata": {},
   "outputs": [
    {
     "data": {
      "text/plain": [
       "<AxesSubplot:xlabel='Age', ylabel='Survived'>"
      ]
     },
     "execution_count": 139,
     "metadata": {},
     "output_type": "execute_result"
    },
    {
     "data": {
      "image/png": "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\n",
      "text/plain": [
       "<Figure size 1296x288 with 1 Axes>"
      ]
     },
     "metadata": {
      "needs_background": "light"
     },
     "output_type": "display_data"
    }
   ],
   "source": [
    "# average survived passengers by age\n",
    "fig, axis1 = plt.subplots(1,1,figsize=(18,4))\n",
    "average_age = titanic_df[[\"Age\", \"Survived\"]].groupby(['Age'],as_index=False).mean()\n",
    "sns.barplot(x='Age', y='Survived', data=average_age)"
   ]
  },
  {
   "cell_type": "code",
   "execution_count": 140,
   "id": "e64a8f4e",
   "metadata": {},
   "outputs": [],
   "source": [
    "# Cabin\n",
    "# It has a lot of NaN values, so it won't cause a remarkable impact on prediction\n",
    "titanic_df.drop(\"Cabin\",axis=1,inplace=True)\n",
    "test_df.drop(\"Cabin\",axis=1,inplace=True)\n"
   ]
  },
  {
   "cell_type": "code",
   "execution_count": 141,
   "id": "b9038b9b",
   "metadata": {},
   "outputs": [
    {
     "name": "stderr",
     "output_type": "stream",
     "text": [
      "/Users/moritayasushieda/opt/anaconda3/lib/python3.8/site-packages/pandas/core/indexing.py:1637: SettingWithCopyWarning: \n",
      "A value is trying to be set on a copy of a slice from a DataFrame\n",
      "\n",
      "See the caveats in the documentation: https://pandas.pydata.org/pandas-docs/stable/user_guide/indexing.html#returning-a-view-versus-a-copy\n",
      "  self._setitem_single_block(indexer, value, name)\n",
      "/Users/moritayasushieda/opt/anaconda3/lib/python3.8/site-packages/pandas/core/indexing.py:1637: SettingWithCopyWarning: \n",
      "A value is trying to be set on a copy of a slice from a DataFrame\n",
      "\n",
      "See the caveats in the documentation: https://pandas.pydata.org/pandas-docs/stable/user_guide/indexing.html#returning-a-view-versus-a-copy\n",
      "  self._setitem_single_block(indexer, value, name)\n"
     ]
    }
   ],
   "source": [
    "# Family\n",
    "\n",
    "# Instead of having two columns Parch & SibSp, \n",
    "# we can have only one column represent if the passenger had any family member aboard or not,\n",
    "# Meaning, if having any family member(whether parent, brother, ...etc) will increase chances of Survival or not.\n",
    "titanic_df['Family'] =  titanic_df[\"Parch\"] + titanic_df[\"SibSp\"]\n",
    "titanic_df['Family'].loc[titanic_df['Family'] > 0] = 1\n",
    "titanic_df['Family'].loc[titanic_df['Family'] == 0] = 0"
   ]
  },
  {
   "cell_type": "code",
   "execution_count": 142,
   "id": "df36c162",
   "metadata": {},
   "outputs": [
    {
     "name": "stderr",
     "output_type": "stream",
     "text": [
      "/Users/moritayasushieda/opt/anaconda3/lib/python3.8/site-packages/pandas/core/indexing.py:1637: SettingWithCopyWarning: \n",
      "A value is trying to be set on a copy of a slice from a DataFrame\n",
      "\n",
      "See the caveats in the documentation: https://pandas.pydata.org/pandas-docs/stable/user_guide/indexing.html#returning-a-view-versus-a-copy\n",
      "  self._setitem_single_block(indexer, value, name)\n",
      "/Users/moritayasushieda/opt/anaconda3/lib/python3.8/site-packages/pandas/core/indexing.py:1637: SettingWithCopyWarning: \n",
      "A value is trying to be set on a copy of a slice from a DataFrame\n",
      "\n",
      "See the caveats in the documentation: https://pandas.pydata.org/pandas-docs/stable/user_guide/indexing.html#returning-a-view-versus-a-copy\n",
      "  self._setitem_single_block(indexer, value, name)\n"
     ]
    }
   ],
   "source": [
    "test_df['Family'] =  test_df[\"Parch\"] + test_df[\"SibSp\"]\n",
    "test_df['Family'].loc[test_df['Family'] > 0] = 1\n",
    "test_df['Family'].loc[test_df['Family'] == 0] = 0"
   ]
  },
  {
   "cell_type": "code",
   "execution_count": 143,
   "id": "fa41d43c",
   "metadata": {},
   "outputs": [],
   "source": [
    "# drop Parch & SibSp\n",
    "titanic_df = titanic_df.drop(['SibSp','Parch'], axis=1)\n",
    "test_df    = test_df.drop(['SibSp','Parch'], axis=1)"
   ]
  },
  {
   "cell_type": "code",
   "execution_count": 144,
   "id": "0e1f900e",
   "metadata": {},
   "outputs": [
    {
     "data": {
      "text/plain": [
       "[Text(0, 0, 'With Family'), Text(1, 0, 'Alone')]"
      ]
     },
     "execution_count": 144,
     "metadata": {},
     "output_type": "execute_result"
    },
    {
     "data": {
      "image/png": "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\n",
      "text/plain": [
       "<Figure size 720x360 with 2 Axes>"
      ]
     },
     "metadata": {
      "needs_background": "light"
     },
     "output_type": "display_data"
    }
   ],
   "source": [
    "# plot\n",
    "fig, (axis1,axis2) = plt.subplots(1,2,sharex=True,figsize=(10,5))\n",
    "\n",
    "# sns.factorplot('Family',data=titanic_df,kind='count',ax=axis1)\n",
    "sns.countplot(x='Family', data=titanic_df, order=[1,0], ax=axis1)\n",
    "\n",
    "# average of survived for those who had/didn't have any family member\n",
    "family_perc = titanic_df[[\"Family\", \"Survived\"]].groupby(['Family'],as_index=False).mean()\n",
    "sns.barplot(x='Family', y='Survived', data=family_perc, order=[1,0], ax=axis2)\n",
    "\n",
    "axis1.set_xticklabels([\"With Family\",\"Alone\"], rotation=0)"
   ]
  },
  {
   "cell_type": "code",
   "execution_count": 145,
   "id": "695f5f1f",
   "metadata": {},
   "outputs": [],
   "source": [
    "# Sex\n",
    "\n",
    "# As we see, children(age < ~16) on aboard seem to have a high chances for Survival.\n",
    "# So, we can classify passengers as males, females, and child\n",
    "def get_person(passenger):\n",
    "    age,sex = passenger\n",
    "    return 'child' if age < 16 else sex"
   ]
  },
  {
   "cell_type": "code",
   "execution_count": 146,
   "id": "2b224c55",
   "metadata": {},
   "outputs": [],
   "source": [
    "titanic_df['Person'] = titanic_df[['Age','Sex']].apply(get_person,axis=1)\n",
    "test_df['Person']    = test_df[['Age','Sex']].apply(get_person,axis=1)"
   ]
  },
  {
   "cell_type": "code",
   "execution_count": 147,
   "id": "f159e6b7",
   "metadata": {},
   "outputs": [
    {
     "data": {
      "text/plain": [
       "0      male\n",
       "1    female\n",
       "2    female\n",
       "3    female\n",
       "4      male\n",
       "5      male\n",
       "6      male\n",
       "7     child\n",
       "8    female\n",
       "9     child\n",
       "Name: Person, dtype: object"
      ]
     },
     "execution_count": 147,
     "metadata": {},
     "output_type": "execute_result"
    }
   ],
   "source": [
    "titanic_df['Person'].head(10)"
   ]
  },
  {
   "cell_type": "code",
   "execution_count": 148,
   "id": "464e09ca",
   "metadata": {},
   "outputs": [
    {
     "data": {
      "text/plain": [
       "0      male\n",
       "1    female\n",
       "2    female\n",
       "3    female\n",
       "4      male\n",
       "5      male\n",
       "6      male\n",
       "7      male\n",
       "8    female\n",
       "9    female\n",
       "Name: Sex, dtype: object"
      ]
     },
     "execution_count": 148,
     "metadata": {},
     "output_type": "execute_result"
    }
   ],
   "source": [
    "titanic_df['Sex'].head(10)"
   ]
  },
  {
   "cell_type": "code",
   "execution_count": 149,
   "id": "23c17197",
   "metadata": {},
   "outputs": [],
   "source": [
    "# No need to use Sex column since we created Person column\n",
    "titanic_df.drop(['Sex'],axis=1,inplace=True)\n",
    "test_df.drop(['Sex'],axis=1,inplace=True)"
   ]
  },
  {
   "cell_type": "code",
   "execution_count": 150,
   "id": "dbf21800",
   "metadata": {},
   "outputs": [],
   "source": [
    "# create dummy variables for Person column, & drop Male as it has the lowest average of survived passengers\n",
    "person_dummies_titanic  = pd.get_dummies(titanic_df['Person'])\n",
    "person_dummies_titanic.columns = ['Child','Female','Male']\n",
    "person_dummies_titanic.drop(['Male'], axis=1, inplace=True)\n",
    "\n",
    "person_dummies_test  = pd.get_dummies(test_df['Person'])\n",
    "person_dummies_test.columns = ['Child','Female','Male']\n",
    "person_dummies_test.drop(['Male'], axis=1, inplace=True)\n",
    "\n",
    "titanic_df = titanic_df.join(person_dummies_titanic)\n",
    "test_df    = test_df.join(person_dummies_test)"
   ]
  },
  {
   "cell_type": "code",
   "execution_count": 151,
   "id": "354d6d6b",
   "metadata": {},
   "outputs": [
    {
     "data": {
      "image/png": "iVBORw0KGgoAAAANSUhEUgAAAmEAAAE7CAYAAACVCFZHAAAAOXRFWHRTb2Z0d2FyZQBNYXRwbG90bGliIHZlcnNpb24zLjMuNCwgaHR0cHM6Ly9tYXRwbG90bGliLm9yZy8QVMy6AAAACXBIWXMAAAsTAAALEwEAmpwYAAAdbUlEQVR4nO3de7hcdX3v8fcOIRMtAe8FH29PvXzdVaGaKIkQiT4ghUqJWlvhWCUQBEuhHm9FRdtaKN5AjYKSiKRWq+Vg6fGgUC3ILZGiW2mDbL6eYL1UxYMoCRozupN9/lhr47iT2dlJ9sxvZs/79Tw8mbV+a1a+WUx++ey1fvP7DY2PjyNJkqTumlO6AEmSpEFkCJMkSSrAECZJklSAIUySJKkAQ5gkSVIBhjBJkqQC5pYuYHfddttt441Go3QZkrpoy5YtP164cOEjS9ext+y/pMEzVf/VdyGs0WgwPDxcugxJXTQyMvKd0jXMBPsvafBM1X/5OFKSJKkAQ5gkSVIBhjBJkqQCDGGSJEkFGMIkSZIKMIRJkiQVYAiTJEkqwBAmSZJUgCFMkiSpAEOYJElSAYYwSZKkAmZlCGv+alvpEnqG10LSIBsfa5Yuoad4PXpL3y3gPR2Nffdh4Rs/XrqMnjDynleWLkGSihma2+C773hG6TJ6xuPevqF0CWoxK++ESZIk9TpDmCRJUgGGMEmSpAIMYZIkSQUYwiRJkgowhEmSJBVgCJMkSSrAECZJklSAIUySJKkAQ5gkSVIBhjBJkqQCOrZ2ZER8HdhUb/4XcB6wFhgHbgfOyMztEXEqcBowBpybmVd1qiZJkqRe0ZEQFhHzATJzWcu+zwLnZOb1EfER4PiI+DJwFrAImA/cHBFfzEyXeZckSbNap+6EHQI8OCK+UP8ebwEWAjfU7VcDLwS2Aevq0NWMiI3AwcBXOlSXJElST+hUCNsCvBf4KPBkqtA1lJnjdfv9wAHA/vz6kWXr/raazSajo6NT/ubDw8N7VvUstavrJUmSuq9TIeybwMY6dH0zIu6luhM2YQFwH7C5fj15f1uNRsOQtZu8Xup3IyMjRX7fiJgDXEx1d78JrMzMjXXbgcCnWw7/PeDszPxIt+uU1J869e3Ik4ELACLi0VR3vL4QEcvq9mOAm4BbgaURMT8iDgCGqQbtS1IvWA7Mz8wlwNnU/RpAZt6dmcvqsa9vBr4GrClRpKT+1Kk7YZcCayPiZqpvQ54M/BhYExHzgFHgiszcFhGrqALZHOCtmbm1QzVJ0u46HLgGIDNviYhFkw+IiCHgg8D/yMxtXa5PUh/rSAjLzF8CJ+6k6YidHLsGf3qU1Jsmj1vdFhFzM3OsZd9xwDcyM3d1sumMadXMcjjGjvwM9o6OzRMmSbPA5HGrcyYFMIBXAB+Yzskc06pe4Gewu6Ya0+qM+ZLU3jrgWICIWAxs2MkxC4H13SxK0uzgnTBJau9K4KiIWA8MASsi4kRgv8xcHRGPBO5vmX5HkqbNECZJbWTmduD0SbvvbGm/h2pqCknabT6OlCRJKsAQJkmSVIAhTJIkqQBDmCRJUgGGMEmSpAIMYZIkSQUYwiRJkgowhEmSJBVgCJMkSSrAECZJklSAIUySJKkAQ5gkSVIBhjBJkqQCDGGSJEkFGMIkSZIKMIRJkiQVYAiTJEkqwBAmSZJUgCFMkiSpAEOYJElSAYYwSZKkAgxhkiRJBRjCJEmSCjCESZIkFWAIkyRJKsAQJkmSVMDc0gVIUq+KiDnAxcAhQBNYmZkbW9qfDVwIDAF3A6/IzK0lapXUf7wTJkntLQfmZ+YS4GzggomGiBgC1gArMvNw4Brg8SWKlNSfDGGS1N5EuCIzbwEWtbQ9BbgXeG1E3AA8LDOz+yVK6lc+jpSk9vYHNrVsb4uIuZk5BjwCeC5wJvB/gasiYiQzr213smazyejoaEcL1m8aHh4uXULP8TPYOwxhktTeZmBBy/acOoBBdRdsY2beARAR1wALgbYhrNFoGApUnJ/B7hoZGWnb5uNISWpvHXAsQEQsBja0tH0L2C8inlRvLwW+0d3yJPUz74RJUntXAkdFxHqqb0CuiIgTgf0yc3VEnAL8Yz1If31mfq5ksZL6iyFMktrIzO3A6ZN239nSfh3wnK4WJWnW8HGkJElSAYYwSZKkAjr2ODIiHgWMAEcBY8BaYBy4HTgjM7dHxKnAaXX7uZl5VafqkSRJ6iUduRMWEfsClwC/qHddCJyTmUupBrceHxEHAmcBhwFHA+dHRKMT9UiSJPWaTj2OfC/wEeAH9fZC4Ib69dXAkVSDWddlZjMzNwEbgYM7VI8kSVJPmfEQFhEnAfdk5r+27B7KzPH69f3AAew4E/XEfkmSpFmvE2PCTgbGI+JI4PeAjwOPamlfANzHjjNRT+yf0nSW/XA24N/kEhWSJPWeGQ9hmfm8idcRcT3VHDvviYhlmXk9cAzwJeBW4LyImA80gGGqQftTctmP3ef1Ur+batkPSepX3Zqi4vXA30TEl4F5wBWZeTewCrgJuA54a2Zu7VI9kiRpDzTHmqVL6Cl7cz06OmN+Zi5r2TxiJ+1rgDWdrEGSJM2cxtwGh33wsNJl9Ix1Z67b4/c6WaskSVIBhjBJkqQCDGGSJEkFGMIkSZIKMIRJkiQVYAiTJEkqwBAmSZJUgCFMkiSpAEOYJElSAYYwSZKkAgxhkiRJBRjCJEmSCjCESZIkFWAIkyRJKsAQJkmSVIAhTJIkqYC5pQuQpF4VEXOAi4FDgCawMjM3trS/DjgFuKfedVpmZtcLldSXDGGS1N5yYH5mLomIxcAFwPEt7c8CXpmZIyWKk9TffBwpSe0dDlwDkJm3AIsmtS8E3hwRN0fEm7tdnKT+5p0wSWpvf2BTy/a2iJibmWP19qeBi4DNwJUR8aLMvKrdyZrNJqOjo52rVjsYHh4uXULP2dvPoNd0R3t6TQ1hktTeZmBBy/aciQAWEUPA+zNzU739OeCZQNsQ1mg0/AdMxfkZnHlTXdORkfajFXwcKUntrQOOBajHhG1oadsfuD0i9qsD2QsAx4ZJmjbvhElSe1cCR0XEemAIWBERJwL7ZebqiHgL8CWqb05em5mfL1irpD5jCJOkNjJzO3D6pN13trT/A/APXS1K0qzh40hJkqQCDGGSJEkFGMIkSZIKMIRJkiQVYAiTJEkqwBAmSZJUgCFMkiSpAEOYJElSAYYwSZKkAgxhkiRJBRjCJEmSCjCESZIkFWAIkyRJKmBu6QIkqdMi4nnt2jLzxm7WIkkTDGGSBsFr6l+fCMwDvgI8E/gZsKxQTZIGnI8jJc16mXlCZp4A3AMsysxTgUOBrWUrkzTIDGGSBslBLa/nAo8qVYgkdeRxZETsA6wBAtgGrACGgLXAOHA7cEZmbo+IU4HTgDHg3My8qhM1SRJwKfCNiLgd+F3grwrXI2mAdepO2HEAmXkY8Hbgwvq/czJzKVUgOz4iDgTOAg4DjgbOj4hGh2qSNOAy8yLg2cC7gKWZeXnhkiQNsGmFsIhYOWn7rKmOz8x/AV5dbz4e+BGwELih3nc1cCTwHGBdZjYzcxOwETh4usVL0u6IiKcBn6O6I7YyIl5UuCRJA2zKx5ERcQLwh8DzI+IF9e59gKcDq6Z6b2aORcTfAy8G/gh4UWaO1833AwcA+wObWt42sb+tZrPJ6OjoVIcwPDw8Zfug2dX1kgbIKqrhEWuogtjVgEMgJBWxqzFh1wA/BB4OXFLv2w7cNZ2TZ+arIuIvgX8HHtTStAC4D9hcv568v61Go2HI2k1eL/W7kZGRGTtXZm6MiPHMvCci7p+xE0vSbpoyhGXmT4Hrgesj4lHA/Om8LyL+FHhMZp4PbKEKbl+NiGWZeT1wDPAl4FbgvIiYDzSAYapB+5LUCT+JiNOA34qIl7OLH/okqZOm9e3IiLgI+APgB1SD6seB507xln8GLouIG4F9gdcCo8CaiJhXv74iM7dFxCrgJqrxaW/NTOftkdQppwBvAX4MLKq3JamI6U5RcSjwO5m5fToHZ+bPgT/eSdMROzl2DdX4DEnqtL8B1mTmHaULkaTphrCNVI8it3SwFknqtHXAuyNiAXAZ8E+Z+YvCNUkaUNMNYY8DvhMRG+vt8cyc6nGkJPWczLwCuCIiDgLeB7wfeEi74yNiDnAxcAjQBFZm5sadHLca+Elmnt2BsiXNUtMNYSd0tApJ6oKIeBzwKuClwNeoviQ0leXA/MxcEhGLgQuA4yed8zTgGfx6HkRJmpbphrBX7WTfO2ayEEnqgs8AH6WaLX8601McTjVVD5l5S0Qsam2MiCXAYqopfJ46w7VKmuWmG8J+VP86BDwLF/6W1Eci4jGZ+d/AK6i+3X1Q/UiSzPzmFG+dPKH0toiYW09GfRDw11QTUu/si0g7mM5k05pZzpO4o739DHpNd7Sn13RaISwzL2ndjoir9+h3k6QyXlf/95FJ+8eBF+x4+AMmTyg9JzPH6tcvAx4BfB44EHhwRNyZmWvbnczJptUL/AzOvKmu6VSTTU93nrCntGweRDVQX5L6Qma+rn75AeCz051uh+rblMcBl9djwja0nHMV9fJtEXES8NSpApgkTTbdx5Gtd8K2Am/oQC2S1GlHAn8bEZ8FLs3Mb+3i+CuBoyJiPdVwjBURcSKwX2au7nCtkma56T6OfH5EPBx4IvCtzPxxZ8uSpJmXmX9er9pxPPChiJiXmUdOcfx24PRJu+/cyXFrZ7RQSQNhWgPsI+JlwHqq5T5uiYhXdLQqSeqc5wBHA78NXFu4FkkDbLqPI18HLMzMn9UzTV8HfKJzZamXjI81GZrbKF1Gz/B69K+IuAP4D+CjmbmydD2SBtt0Q9j2zPwZQGbeHxEusj1AhuY2+O47nlG6jJ7xuLdv2PVB6lWXZeZ7ShchSTD9EHZXRFwA3AgsBe7qXEmS1DHHRMSFmbmtdCGSNN0Qtho4AjiKagmjoztWkSR1ziOBH0TEf1HNEeY6uJKKmW4IuxA4KTPviIgLgbXA8zpWlSR1xotKFyBJE6YbwsYy8w6AzPxWREx3okNJ6iWugyupZ0w3hH0nIv4O+DLV17u/37mSJKljXAdXUs+YbghbQTVh4bHAKHBuxyqSpA5xHVxJvWS6M+ZvBd7f2VIkqbMmrYP7aFwHV1JB070TJkmzwSVU34p8GHAv8Pqy5UgaZIYwSbNeRDwLuBQ4lOobkh8GHgzMK1mXpMHmoFRJg+A84FWZ+UuqMa3HAIuAvyxalaSB5p0wSYNgTmb+Z0Q8GvitzPwagNPtSCrJO2GSBsFEX/f7wL8BREQDWFCsIkkDzzthkgbBv0XEOuCxwB9GxBOpxoX9U9myJA0y74RJmvUy813ASuCZmXlbvfvDmXl+uaokDTrvhEkaCJk52vL6LuCuguVIknfCJEmSSjCESZIkFWAIkyRJKsAQJkmSVIAhTJIkqQBDmCRJUgGGMEmSpAIMYZIkSQU4WasktRERc4CLgUOAJrAyMze2tL8UOBsYB1Zn5keLFCqpL3knTJLaWw7Mz8wlVGHrgomGiNgHeCdwJLAEeGNEPKJEkZL6kyFMkto7HLgGIDNvARZNNGTmNmA4MzcBDweGgJ+VKFJSf/JxpCS1tz+wqWV7W0TMzcwxgMwci4iXABcBnwN+NdXJms0mo6OjUx2iGTY8PFy6hJ6zt59Br+mO9vSaGsIkqb3NwIKW7TkTAWxCZv5zRPwLsBZ4JXBZu5M1Gg3/AVNxfgZn3lTXdGRkpG3bjIewiNgX+BjwBKABnAvcQdVBjQO3A2dk5vaIOBU4DRgDzs3Mq2a6HknaC+uA44DLI2IxsGGiISL2B/4P8MLMbEbEz4HtZcqU1I86MSbsFcC9mbkUOAb4EHAhcE69bwg4PiIOBM4CDgOOBs6PiEYH6pGkPXUlsDUi1gPvA/5nRJwYEa/OzM3AJ4EbI+Jmqh8yP1GwVkl9phOPI/8XcEXL9hiwELih3r4aeCGwDViXmU2gGREbgYOBr3SgJknabZm5HTh90u47W9pXA6u7WpSkWWPGQ1hm/gwgIhZQhbFzgPdm5nh9yP3AAew44HVivyRJ0qzXkYH5EfFYqtv4F2fmP0bEu1uaFwD3seOA14n9U5rOt4scdPib/CbMzPMbbpKkvdWJgfm/DXwB+PPMvLbe/fWIWJaZ11ONE/sScCtwXkTMpxrAP0w1aH9Kfrto93m9Zp7XtLum+naRJPWrTtwJewvwUOBtEfG2et9fAKsiYh4wClyRmdsiYhVwE9UXBN6amVs7UI8kSVLP6cSYsL+gCl2THbGTY9cAa2a6BkmSpF7nskWSJEkFGMIkSZIKMIRJkiQVYAiTJEkqwBAmSZJUgCFMkiSpAEOYJElSAYYwSZKkAgxhkiRJBRjCJEmSCjCESZIkFWAIkyRJKsAQJkmSVIAhTJIkqQBDmCRJUgGGMEmSpAIMYZIkSQUYwiRJkgowhEmSJBVgCJMkSSrAECZJklTA3NIFSFKviog5wMXAIUATWJmZG1vaTwBeC2wD/hP4s8zcXqBUSX3IO2GS1N5yYH5mLgHOBi6YaIiIBwHnAs/PzOcCBwAvKlGkpP5kCJOk9g4HrgHIzFuARS1tTeC5mbml3p4LbO1ueZL6mSFMktrbH9jUsr0tIuYCZOb2zPwRQEScCewHfLH7JUrqV44Jk6T2NgMLWrbnZObYxEY9ZuzdwFOAl2bm+FQnazabjI6OdqRQ7dzw8HDpEnrO3n4GvaY72tNragiTpPbWAccBl0fEYmDDpPZLqB5LLp/OgPxGo+E/YCrOz+DMm+qajoyMtG0zhElSe1cCR0XEemAIWBERJ1I9evwqcApwE3BdRAB8IDOvLFWspP5iCJOkNuq7W6dP2n1ny2vH1UraY3YgkiRJBRjCJEmSCjCESZIkFWAIkyRJKsAQJkmSVIAhTJIkqQBDmCRJUgGGMEnqIc1fbStdQk/xemg2c7JWSeohjX33YeEbP166jJ4x8p5Xli5B6hjvhEmSJBVgCJMkSSrAECZJklRAx8aERcShwLsyc1lEPAlYC4wDtwNnZOb2iDgVOA0YA87NzKs6VY8kSVIv6cidsIh4E/BRYH6960LgnMxcCgwBx0fEgcBZwGHA0cD5EdHoRD2SJEm9plOPI+8CXtKyvRC4oX59NXAk8BxgXWY2M3MTsBE4uEP1SJIk9ZSOPI7MzM9ExBNadg1l5nj9+n7gAGB/YFPLMRP7p9RsNhkdHZ3ymOHh4d2qd7bb1fXaFa/njvb2mkqS1K15wra3vF4A3Adsrl9P3j+lRqNhKNhNXq+Z5zXtrpGRkdIlSNKM69a3I78eEcvq18cANwG3AksjYn5EHAAMUw3alyRJmvW6dSfs9cCaiJgHjAJXZOa2iFhFFcjmAG/NzK1dqkeSJKmojoWwzPw2sLh+/U3giJ0cswZY06kaJEmSepWTtUqSJBVgCJMKaI41S5fQM7wWkgZVt8aESWrRmNvgsA8eVrqMnrDuzHWlS5CkIrwTJkmSVIAhTJIkqQBDmCRJUgGOCZOkNiJiDnAxcAjQBFZm5sZJxzwY+CJwSmbe2f0qJfUr74RJUnvLgfmZuQQ4G7igtTEiFgE3Ak/sfmmS+p0hTJLaOxy4BiAzbwEWTWpvAC8GvAMmabcZwiSpvf2BTS3b2yLigWEcmbkuM7/X/bIkzQaOCZOk9jYDC1q252Tm2J6erNlsMjo6OuUxw8PDe3r6WWtX12wqXs8d7c31BK/pzuzpNTWESVJ764DjgMsjYjGwYW9O1mg0/AdsD3jNZpbXc+ZNdU1HRkbathnCJKm9K4GjImI9MASsiIgTgf0yc3XZ0iT1O0OYJLWRmduB0yft3mEQfmYu60pBkmYVB+ZLkiQVYAiTJEkqwBAmSZJUgCFMkiSpAEOYJElSAYYwSZKkAgxhkiRJBRjCJEmSCjCESZIkFWAIkyRJKsAQJkmSVIAhTJIkqQBDmCRJUgGGMEmSpAIMYZIkSQUYwiRJkgowhEmSJBVgCJMkSSrAECZJklSAIUySJKkAQ5gkSVIBhjBJkqQCDGGSJEkFGMIkSZIKMIRJkiQVYAiTJEkqwBAmSZJUwNzSBUTEHOBi4BCgCazMzI1lq5KkXfdPEXEc8HZgDPhYZq4pUqikvtQLd8KWA/MzcwlwNnBB2XIk6QHLadM/RcS+wPuAFwJHAK+OiANLFCmpP/VCCDscuAYgM28BFpUtR5IeMFX/NAxszMyfZuYvgZuBpd0vUVK/Kv44Etgf2NSyvS0i5mbm2M4O3rJly49HRka+s6uTrn7502aqvr42MjIyMyf6g7Uzc55Z4J4ZuqarnrtqRs7T76b5GX18p+toY6r+aXLb/cABU53M/mv3zUgfZv/1APuvmTeNz2jb/qsXQthmYEHL9px2AQxg4cKFj+x8SZIETN0/TW5bANw31cnsvyS16oXHkeuAYwEiYjGwoWw5kvSAqfqnUeDJEfGwiJgHPA/4cvdLlNSvhsbHx4sW0PLto4OBIWBFZt5ZtChJYuf9E/AsYL/MXN3y7cg5VN+OvKhYsZL6TvEQJkmSNIh64XGkJEnSwDGESZIkFWAI64KIOCki3lm6jl4QEftExL9GxM0R8dAZPO/dM3Wu2ajdZzAiPh0R8yJibUT8/qS2+RHx7a4VqZ5k//Vr9l9lzOb+qxemqNBgOQh4RGYuLF2IIDNfDhARpUuR+oH9Vw+ZDf2XIWw3RcRJwHHAg6j+Qn4AOB54OvAG4LHAS4B9qSZyfMmk958JnAiMA5/OzEGb8W411df6L6OaV+nh9f6zMnNDRGwE1gNPBq6jmvzyOUBm5p9GxNOBC6nu4j6kft/6iZNHxDOAVVTfZLsXODkzWyfUHAgR8SDgMqpJAvcFPgMsjogvAI8EPlx/u+/bwFNb3rcf8EngoYBruM4y9l97zf6rCwap//Jx5J5ZkJnHAu8CXkPVUb0aOIXqL+WRmbmU6sPz7Ik3RcTvAn9CtRTK4cDy6OcIv2f+DLgD+H/AtZn5fKpr9+G6/QnAOVRzLp1FNT3AocDhEfEQ4GnA6zPzSKrObMWk868BzsjMZcDngTd18M/Sy04Hvl2veXgS8AvgV8DRwIuB17Z530nA7Zn5POCSjlepEuy/9pz9V3cMTP9lCNszX69/vQ8Yzcxx4KfAPOCXwKci4lLgMVQd2YSnUyX7a6l+Sno48KQu1dxrngGcHBHXU3U8E+Mr7s3M72bmr4CfZ+Yd9fXdBMwHvg+8LSL+HvgjfvP6QrWe38X1eU8GHt3xP0lvCuqJQzPzdqrP6tfqa3k38OA273sacGv9vn+n6vg0u9h/7T37r84amP7LELZn2k2uNg9Ynpl/ApxJdX2HWtoT+Abw/PonnbUM7goBdwLvq6/DH1PdQob213bCKuCvMvNVVNduaFJ7Aq+sz/sm4HMzVXCfGaW+ixERvwP8Hbu+tlD9f1lSv++Z7PiPhPqf/dfes//qrIHpvxwTNrPGgJ9HxFeBJvBDWn6Sycz/iIhrgZsjokGV2L9fpNLyzgMujYhXUy2E/NfTfN8ngP8dET8C/ht4xKT21wAfj4h96u1TZqDWfnQJ8LGIuAHYh+rRx+RrtTMXAZdFxM1UHVqzcyWqx9h/TZ/9V2cNTP/ljPmSJEkF+DhSkiSpAEOYJElSAYYwSZKkAgxhkiRJBRjCJEmSCnCKCnVVRCwDLqeadXqcavmUT2bmB0vWJUm7Yv+lmeadMJVwXWYuq5f8OAJ4fb2khyT1OvsvzRjvhKm0BcA24LERcSUtC9cCz6Ra3+6XVAvnPhV4AdUPD5/KzPfXsyJ/sD7HVuDUiXbge8ATgVsz8zXd/ENJGgj2X9orhjCV8IJ6bbTtVGt7nUm1/trJmXlHRJxCtWTHF4H5mXkoQER8j2ph3B9QLdRK/b6VmXlbRBxPNbPyG4CnAC8EtgDfiogDM/PuLv35JM1e9l+aMYYwlXBdZr68dUdEfIpq4Vqo1vv6Zt2ULYe9HDgfOBC4ut736My8rX59I/DO+vXGzLy/PvcPqRbPlaS9Zf+lGeOYMPWKdgvXbgeo16p7GXAC1S39kyLi8cAPIuLg+tgj+HXn53pckrrF/kt7xDth6hU7W7i2dfHgZkT8BLgN+CnwBeC7VGMoPhQRQ1QLEA/qgreSyrH/0h5xAW9JkqQCfBwpSZJUgCFMkiSpAEOYJElSAYYwSZKkAgxhkiRJBRjCJEmSCjCESZIkFWAIkyRJKuD/A41+BQ4tefDMAAAAAElFTkSuQmCC\n",
      "text/plain": [
       "<Figure size 720x360 with 2 Axes>"
      ]
     },
     "metadata": {
      "needs_background": "light"
     },
     "output_type": "display_data"
    }
   ],
   "source": [
    "fig, (axis1,axis2) = plt.subplots(1,2,figsize=(10,5))\n",
    "\n",
    "# sns.factorplot('Person',data=titanic_df,kind='count',ax=axis1)\n",
    "sns.countplot(x='Person', data=titanic_df, ax=axis1)\n",
    "\n",
    "# average of survived for each Person(male, female, or child)\n",
    "person_perc = titanic_df[[\"Person\", \"Survived\"]].groupby(['Person'],as_index=False).mean()\n",
    "sns.barplot(x='Person', y='Survived', data=person_perc, ax=axis2, order=['male','female','child'])\n",
    "\n",
    "titanic_df.drop(['Person'],axis=1,inplace=True)\n",
    "test_df.drop(['Person'],axis=1,inplace=True)"
   ]
  },
  {
   "cell_type": "code",
   "execution_count": 152,
   "id": "be8dab54",
   "metadata": {},
   "outputs": [
    {
     "name": "stderr",
     "output_type": "stream",
     "text": [
      "/Users/moritayasushieda/opt/anaconda3/lib/python3.8/site-packages/seaborn/categorical.py:3714: UserWarning: The `factorplot` function has been renamed to `catplot`. The original name will be removed in a future release. Please update your code. Note that the default `kind` in `factorplot` (`'point'`) has changed `'strip'` in `catplot`.\n",
      "  warnings.warn(msg)\n",
      "/Users/moritayasushieda/opt/anaconda3/lib/python3.8/site-packages/seaborn/categorical.py:3720: UserWarning: The `size` parameter has been renamed to `height`; please update your code.\n",
      "  warnings.warn(msg, UserWarning)\n",
      "/Users/moritayasushieda/opt/anaconda3/lib/python3.8/site-packages/seaborn/_decorators.py:36: FutureWarning: Pass the following variables as keyword args: x, y. From version 0.12, the only valid positional argument will be `data`, and passing other arguments without an explicit keyword will result in an error or misinterpretation.\n",
      "  warnings.warn(\n"
     ]
    },
    {
     "data": {
      "image/png": "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\n",
      "text/plain": [
       "<Figure size 360x360 with 1 Axes>"
      ]
     },
     "metadata": {
      "needs_background": "light"
     },
     "output_type": "display_data"
    }
   ],
   "source": [
    "# Pclass\n",
    "\n",
    "# sns.factorplot('Pclass',data=titanic_df,kind='count',order=[1,2,3])\n",
    "sns.factorplot('Pclass','Survived',order=[1,2,3], data=titanic_df,size=5)\n",
    "\n",
    "# create dummy variables for Pclass column, & drop 3rd class as it has the lowest average of survived passengers\n",
    "pclass_dummies_titanic  = pd.get_dummies(titanic_df['Pclass'])\n",
    "pclass_dummies_titanic.columns = ['Class_1','Class_2','Class_3']\n",
    "pclass_dummies_titanic.drop(['Class_3'], axis=1, inplace=True)\n",
    "\n",
    "pclass_dummies_test  = pd.get_dummies(test_df['Pclass'])\n",
    "pclass_dummies_test.columns = ['Class_1','Class_2','Class_3']\n",
    "pclass_dummies_test.drop(['Class_3'], axis=1, inplace=True)\n",
    "\n",
    "titanic_df.drop(['Pclass'],axis=1,inplace=True)\n",
    "test_df.drop(['Pclass'],axis=1,inplace=True)\n",
    "\n",
    "titanic_df = titanic_df.join(pclass_dummies_titanic)\n",
    "test_df    = test_df.join(pclass_dummies_test)"
   ]
  },
  {
   "cell_type": "code",
   "execution_count": 153,
   "id": "374716cf",
   "metadata": {},
   "outputs": [],
   "source": [
    "# define training and testing sets\n",
    "\n",
    "X_train = titanic_df.drop(\"Survived\",axis=1)\n",
    "Y_train = titanic_df[\"Survived\"]\n",
    "X_test  = test_df.drop(\"PassengerId\",axis=1).copy()"
   ]
  },
  {
   "cell_type": "code",
   "execution_count": 154,
   "id": "24ac64e0",
   "metadata": {},
   "outputs": [
    {
     "data": {
      "text/plain": [
       "0.7946127946127947"
      ]
     },
     "execution_count": 154,
     "metadata": {},
     "output_type": "execute_result"
    }
   ],
   "source": [
    "# Logistic Regression\n",
    "\n",
    "logreg = LogisticRegression()\n",
    "\n",
    "logreg.fit(X_train, Y_train)\n",
    "\n",
    "Y_pred = logreg.predict(X_test)\n",
    "\n",
    "logreg.score(X_train, Y_train)"
   ]
  },
  {
   "cell_type": "code",
   "execution_count": 156,
   "id": "094853bb",
   "metadata": {},
   "outputs": [
    {
     "data": {
      "text/plain": [
       "0.6801346801346801"
      ]
     },
     "execution_count": 156,
     "metadata": {},
     "output_type": "execute_result"
    }
   ],
   "source": [
    "#Support Vector Machines\n",
    "\n",
    "svc = SVC()\n",
    "\n",
    "svc.fit(X_train, Y_train)\n",
    "\n",
    "Y_pred = svc.predict(X_test)\n",
    "\n",
    "svc.score(X_train, Y_train)"
   ]
  },
  {
   "cell_type": "code",
   "execution_count": 157,
   "id": "c919b18f",
   "metadata": {},
   "outputs": [
    {
     "data": {
      "text/plain": [
       "0.957351290684624"
      ]
     },
     "execution_count": 157,
     "metadata": {},
     "output_type": "execute_result"
    }
   ],
   "source": [
    "# Random Forests\n",
    "\n",
    "random_forest = RandomForestClassifier(n_estimators=100)\n",
    "\n",
    "random_forest.fit(X_train, Y_train)\n",
    "\n",
    "Y_pred = random_forest.predict(X_test)\n",
    "\n",
    "random_forest.score(X_train, Y_train)"
   ]
  },
  {
   "cell_type": "code",
   "execution_count": null,
   "id": "ecde2170",
   "metadata": {},
   "outputs": [],
   "source": [
    "Random Forests has the highest score."
   ]
  },
  {
   "cell_type": "code",
   "execution_count": 158,
   "id": "209251c3",
   "metadata": {},
   "outputs": [
    {
     "data": {
      "text/plain": [
       "0.8249158249158249"
      ]
     },
     "execution_count": 158,
     "metadata": {},
     "output_type": "execute_result"
    }
   ],
   "source": [
    "knn = KNeighborsClassifier(n_neighbors = 3)\n",
    "\n",
    "knn.fit(X_train, Y_train)\n",
    "\n",
    "Y_pred = knn.predict(X_test)\n",
    "\n",
    "knn.score(X_train, Y_train)"
   ]
  },
  {
   "cell_type": "code",
   "execution_count": 159,
   "id": "bdf311e5",
   "metadata": {},
   "outputs": [
    {
     "data": {
      "text/plain": [
       "0.7699214365881033"
      ]
     },
     "execution_count": 159,
     "metadata": {},
     "output_type": "execute_result"
    }
   ],
   "source": [
    "# Gaussian Naive Bayes\n",
    "\n",
    "gaussian = GaussianNB()\n",
    "\n",
    "gaussian.fit(X_train, Y_train)\n",
    "\n",
    "Y_pred = gaussian.predict(X_test)\n",
    "\n",
    "gaussian.score(X_train, Y_train)"
   ]
  },
  {
   "cell_type": "code",
   "execution_count": 160,
   "id": "f6d048b4",
   "metadata": {},
   "outputs": [
    {
     "data": {
      "text/html": [
       "<div>\n",
       "<style scoped>\n",
       "    .dataframe tbody tr th:only-of-type {\n",
       "        vertical-align: middle;\n",
       "    }\n",
       "\n",
       "    .dataframe tbody tr th {\n",
       "        vertical-align: top;\n",
       "    }\n",
       "\n",
       "    .dataframe thead th {\n",
       "        text-align: right;\n",
       "    }\n",
       "</style>\n",
       "<table border=\"1\" class=\"dataframe\">\n",
       "  <thead>\n",
       "    <tr style=\"text-align: right;\">\n",
       "      <th></th>\n",
       "      <th>Features</th>\n",
       "      <th>Coefficient Estimate</th>\n",
       "    </tr>\n",
       "  </thead>\n",
       "  <tbody>\n",
       "    <tr>\n",
       "      <th>0</th>\n",
       "      <td>Age</td>\n",
       "      <td>-0.022167</td>\n",
       "    </tr>\n",
       "    <tr>\n",
       "      <th>1</th>\n",
       "      <td>Fare</td>\n",
       "      <td>0.001683</td>\n",
       "    </tr>\n",
       "    <tr>\n",
       "      <th>2</th>\n",
       "      <td>Family</td>\n",
       "      <td>-0.172283</td>\n",
       "    </tr>\n",
       "    <tr>\n",
       "      <th>3</th>\n",
       "      <td>Child</td>\n",
       "      <td>1.771663</td>\n",
       "    </tr>\n",
       "    <tr>\n",
       "      <th>4</th>\n",
       "      <td>Female</td>\n",
       "      <td>2.763478</td>\n",
       "    </tr>\n",
       "    <tr>\n",
       "      <th>5</th>\n",
       "      <td>Class_1</td>\n",
       "      <td>2.032225</td>\n",
       "    </tr>\n",
       "    <tr>\n",
       "      <th>6</th>\n",
       "      <td>Class_2</td>\n",
       "      <td>1.042810</td>\n",
       "    </tr>\n",
       "  </tbody>\n",
       "</table>\n",
       "</div>"
      ],
      "text/plain": [
       "  Features  Coefficient Estimate\n",
       "0      Age             -0.022167\n",
       "1     Fare              0.001683\n",
       "2   Family             -0.172283\n",
       "3    Child              1.771663\n",
       "4   Female              2.763478\n",
       "5  Class_1              2.032225\n",
       "6  Class_2              1.042810"
      ]
     },
     "execution_count": 160,
     "metadata": {},
     "output_type": "execute_result"
    }
   ],
   "source": [
    "# get Correlation Coefficient for each feature using Logistic Regression\n",
    "coeff_df = DataFrame(titanic_df.columns.delete(0))\n",
    "coeff_df.columns = ['Features']\n",
    "coeff_df[\"Coefficient Estimate\"] = pd.Series(logreg.coef_[0])\n",
    "\n",
    "# preview\n",
    "coeff_df"
   ]
  },
  {
   "cell_type": "code",
   "execution_count": null,
   "id": "b5ea3cb0",
   "metadata": {},
   "outputs": [],
   "source": []
  }
 ],
 "metadata": {
  "kernelspec": {
   "display_name": "Python 3",
   "language": "python",
   "name": "python3"
  },
  "language_info": {
   "codemirror_mode": {
    "name": "ipython",
    "version": 3
   },
   "file_extension": ".py",
   "mimetype": "text/x-python",
   "name": "python",
   "nbconvert_exporter": "python",
   "pygments_lexer": "ipython3",
   "version": "3.8.8"
  }
 },
 "nbformat": 4,
 "nbformat_minor": 5
}

#Source from Kaggle: A Journey through Titanic Python · Titanic - Machine Learning from Disaster https://www.kaggle.com/code/omarelgabry/a-journey-through-titanic
